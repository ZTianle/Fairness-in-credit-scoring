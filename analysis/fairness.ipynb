{
 "cells": [
  {
   "cell_type": "code",
   "execution_count": 8,
   "metadata": {},
   "outputs": [
    {
     "name": "stdout",
     "output_type": "stream",
     "text": [
      "Index(['uniq_id', 'serial', 'weight', 'pcode', 'dwave', 'banused', 'disgeg',\n",
      "       'futfin_1', 'futfin_2', 'futfin_3',\n",
      "       ...\n",
      "       'q144', 'q144b', 'q145', 'q150', 'q152152_1', 'q151152_2', 'q151152_3',\n",
      "       'q151152_4', 'q151152_5', 'q153'],\n",
      "      dtype='object', length=2246)\n"
     ]
    }
   ],
   "source": [
    "import scipy, pandas, numpy\n",
    "import matplotlib.pyplot as plt  \n",
    "from sklearn.model_selection import train_test_split, RepeatedStratifiedKFold, cross_val_score\n",
    "from sklearn.feature_selection import f_classif\n",
    "from scipy.stats import chi2_contingency\n",
    "import seaborn as sns\n",
    "\n",
    "df = pandas.read_csv('sme_finance_monitor_q2_2018-q3_2020v2.csv')\n",
    "print(df.columns)"
   ]
  },
  {
   "cell_type": "code",
   "execution_count": 2,
   "metadata": {},
   "outputs": [
    {
     "name": "stdout",
     "output_type": "stream",
     "text": [
      "-1    42690\n",
      " 1     2053\n",
      " 0      275\n",
      "Name: outcome, dtype: int64\n",
      "1    2053\n",
      "0     275\n",
      "Name: outcome, dtype: int64\n"
     ]
    }
   ],
   "source": [
    "df_new = df\n",
    "df_new['outcome'] = -1\n",
    "\n",
    "df_new.loc[((df_new['q57_1']>0)&(df_new['q57_1']<5))|((df_new['q57_2']>0)&(df_new['q57_2']<5))|\n",
    "            ((df_new['q57_3']>0)&(df_new['q57_3']<5))|((df_new['q57_4']>0)&(df_new['q57_4']<5))|\n",
    "            ((df_new['q57_7']>0)&(df_new['q57_7']<5))|((df_new['q57_8']>0)&(df_new['q57_8']<5))|\n",
    "            ((df_new['q57_9']>0)&(df_new['q57_9']<5))|((df_new['q57_10']>0)&(df_new['q57_10']<5))|\n",
    "            ((df_new['q57_11']>0)&(df_new['q57_11']<5))|((df_new['q57_12']>0)&(df_new['q57_12']<5))|\n",
    "            ((df_new['q57_13']>0)&(df_new['q57_13']<5))|((df_new['q57_14']>0)&(df_new['q57_14']<5))|\n",
    "            ((df_new['q57_15']>0)&(df_new['q57_15']<5))|((df_new['q57_16']>0)&(df_new['q57_16']<5))|\n",
    "            ((df_new['q39_1_1']>0)&(df_new['q39_1_1']<5))|((df_new['q39_2_1']>0)&(df_new['q39_2_1']<5))|\n",
    "            ((df_new['q39_3_1']>0)&(df_new['q39_3_1']<5))|((df_new['q39_4_1']>0)&(df_new['q39_4_1']<5))|\n",
    "            ((df_new['q39_1_2']>0)&(df_new['q39_1_2']<5))|((df_new['q39_2_2']>0)&(df_new['q39_2_2']<5))|\n",
    "            ((df_new['q39_3_2']>0)&(df_new['q39_3_2']<5))|((df_new['q39_4_2']>0)&(df_new['q39_4_2']<5))|\n",
    "            ((df_new['q39_1_3']>0)&(df_new['q39_1_3']<5))|((df_new['q39_2_3']>0)&(df_new['q39_2_3']<5))|\n",
    "            ((df_new['q39_3_3']>0)&(df_new['q39_3_3']<5))|((df_new['q39_4_3']>0)&(df_new['q39_4_3']<5))|\n",
    "            ((df_new['q39_1_4']>0)&(df_new['q39_1_4']<5))|((df_new['q39_2_4']>0)&(df_new['q39_2_4']<5))|\n",
    "            ((df_new['q39_3_4']>0)&(df_new['q39_3_4']<5))|((df_new['q39_4_4']>0)&(df_new['q39_4_4']<5))|\n",
    "            ((df_new['q39_1_7']>0)&(df_new['q39_1_7']<5))|((df_new['q39_2_7']>0)&(df_new['q39_2_7']<5))|\n",
    "            ((df_new['q39_3_7']>0)&(df_new['q39_3_7']<5))|((df_new['q39_4_7']>0)&(df_new['q39_4_7']<5))|\n",
    "            ((df_new['q39_1_8']>0)&(df_new['q39_1_8']<5))|((df_new['q39_2_8']>0)&(df_new['q39_2_8']<5))|\n",
    "            ((df_new['q39_3_8']>0)&(df_new['q39_3_8']<5))|((df_new['q39_4_8']>0)&(df_new['q39_4_8']<5))|\n",
    "            ((df_new['q39_1_9']>0)&(df_new['q39_1_9']<5))|((df_new['q39_2_9']>0)&(df_new['q39_2_9']<5))|\n",
    "            ((df_new['q39_3_9']>0)&(df_new['q39_3_9']<5))|((df_new['q39_4_9']>0)&(df_new['q39_4_9']<5))|\n",
    "            ((df_new['q39_1_10']>0)&(df_new['q39_1_10']<5))|((df_new['q39_2_10']>0)&(df_new['q39_2_10']<5))|\n",
    "            ((df_new['q39_3_10']>0)&(df_new['q39_3_10']<5))|((df_new['q39_4_10']>0)&(df_new['q39_4_10']<5))|\n",
    "            ((df_new['q39_1_11']>0)&(df_new['q39_1_11']<5))|((df_new['q39_2_11']>0)&(df_new['q39_2_11']<5))|\n",
    "            ((df_new['q39_3_11']>0)&(df_new['q39_3_11']<5))|((df_new['q39_4_11']>0)&(df_new['q39_4_11']<5))|\n",
    "            ((df_new['q39_1_12']>0)&(df_new['q39_1_12']<5))|((df_new['q39_2_12']>0)&(df_new['q39_2_12']<5))|\n",
    "            ((df_new['q39_3_12']>0)&(df_new['q39_3_12']<5))|((df_new['q39_4_12']>0)&(df_new['q39_4_12']<5))|\n",
    "            ((df_new['q39_1_13']>0)&(df_new['q39_1_13']<5))|((df_new['q39_2_13']>0)&(df_new['q39_2_13']<5))|\n",
    "            ((df_new['q39_3_13']>0)&(df_new['q39_3_13']<5))|((df_new['q39_4_13']>0)&(df_new['q39_4_13']<5))|\n",
    "            ((df_new['q39_1_14']>0)&(df_new['q39_1_14']<5))|((df_new['q39_2_14']>0)&(df_new['q39_2_14']<5))|\n",
    "            ((df_new['q39_3_14']>0)&(df_new['q39_3_14']<5))|((df_new['q39_4_14']>0)&(df_new['q39_4_14']<5))|\n",
    "            ((df_new['q39_1_15']>0)&(df_new['q39_1_15']<5))|((df_new['q39_2_15']>0)&(df_new['q39_2_15']<5))|\n",
    "            ((df_new['q39_3_15']>0)&(df_new['q39_3_15']<5))|((df_new['q39_4_15']>0)&(df_new['q39_4_15']<5))|\n",
    "            ((df_new['q39_1_16']>0)&(df_new['q39_1_16']<5))|((df_new['q39_2_16']>0)&(df_new['q39_2_16']<5))|\n",
    "            ((df_new['q39_3_16']>0)&(df_new['q39_3_16']<5))|((df_new['q39_4_16']>0)&(df_new['q39_4_16']<5))|\n",
    "            ((df_new['q39_1_18']>0)&(df_new['q39_1_18']<5))|((df_new['q39_2_18']>0)&(df_new['q39_2_18']<5))|\n",
    "            ((df_new['q39_3_18']>0)&(df_new['q39_3_18']<5))|((df_new['q39_4_18']>0)&(df_new['q39_4_18']<5))\n",
    "            ,'outcome'] = 1\n",
    "# df_new.loc[(df_new['q57_1']<0)&(df_new['q57_2']<0)&(df_new['q57_3']<0)&\n",
    "#         (df_new['q57_4']<0)&(df_new['q57_7']<0)&(df_new['q57_8']<0)&\n",
    "#         (df_new['q57_9']<0)&(df_new['q57_10']<0)&\n",
    "#         (df_new['q57_11']<0)&(df_new['q57_12']<0)&(df_new['q57_13']<0)&\n",
    "#         (df_new['q57_14']<0)&(df_new['q57_15']<0)&(df_new['q57_16']<0)&\n",
    "#         (df_new['q39_1_1']<0)&(df_new['q39_2_1']<0)&(df_new['q39_3_1']<0)&(df_new['q39_4_1']<0)&\n",
    "#         (df_new['q39_1_2']<0)&(df_new['q39_2_2']<0)&(df_new['q39_3_2']<0)&(df_new['q39_4_2']<0)&\n",
    "#         (df_new['q39_1_3']<0)&(df_new['q39_2_3']<0)&(df_new['q39_3_3']<0)&(df_new['q39_4_3']<0)&\n",
    "#         (df_new['q39_1_4']<0)&(df_new['q39_2_4']<0)&(df_new['q39_3_4']<0)&(df_new['q39_4_4']<0)&\n",
    "#         (df_new['q39_1_7']<0)&(df_new['q39_2_7']<0)&(df_new['q39_3_7']<0)&(df_new['q39_4_7']<0)&\n",
    "#         (df_new['q39_1_8']<0)&(df_new['q39_2_8']<0)&(df_new['q39_3_8']<0)&(df_new['q39_4_8']<0)&\n",
    "#         (df_new['q39_1_9']<0)&(df_new['q39_2_9']<0)&(df_new['q39_3_9']<0)&(df_new['q39_4_9']<0)&\n",
    "#         (df_new['q39_1_10']<0)&(df_new['q39_2_10']<0)&(df_new['q39_3_10']<0)&(df_new['q39_4_10']<0)&\n",
    "#         (df_new['q39_1_11']<0)&(df_new['q39_2_11']<0)&(df_new['q39_3_11']<0)&(df_new['q39_4_11']<0)&\n",
    "#         (df_new['q39_1_12']<0)&(df_new['q39_2_12']<0)&(df_new['q39_3_12']<0)&(df_new['q39_4_12']<0)&\n",
    "#         (df_new['q39_1_13']<0)&(df_new['q39_2_13']<0)&(df_new['q39_3_13']<0)&(df_new['q39_4_13']<0)&\n",
    "#         (df_new['q39_1_14']<0)&(df_new['q39_2_14']<0)&(df_new['q39_3_14']<0)&(df_new['q39_4_14']<0)&\n",
    "#         (df_new['q39_1_15']<0)&(df_new['q39_2_15']<0)&(df_new['q39_3_15']<0)&(df_new['q39_4_15']<0)&\n",
    "#         (df_new['q39_1_16']<0)&(df_new['q39_2_16']<0)&(df_new['q39_3_16']<0)&(df_new['q39_4_16']<0)&\n",
    "#         (df_new['q39_1_18']<0)&(df_new['q39_2_18']<0)&(df_new['q39_3_18']<0)&df_new['q39_4_18']<0\n",
    "#         ,'outcome'] = -1\n",
    "df_new.loc[(df_new['q57_1']==5)|(df_new['q57_2']==5)|(df_new['q57_3']==5)|\n",
    "            (df_new['q57_4']==5)|(df_new['q57_7']==5)|(df_new['q57_8']==5)|\n",
    "            (df_new['q57_9']==5)|(df_new['q57_10']==5)|(df_new['q57_11']==5)|\n",
    "            (df_new['q57_12']==5)|(df_new['q57_13']==5)|(df_new['q57_14']==5)|\n",
    "            (df_new['q57_15']==5)|(df_new['q57_16']==5)|\n",
    "            (df_new['q39_1_1']==5)|(df_new['q39_2_1']==5)|(df_new['q39_3_1']==5)|(df_new['q39_4_1']==5)|\n",
    "            (df_new['q39_1_2']==5)|(df_new['q39_2_2']==5)|(df_new['q39_3_2']==5)|(df_new['q39_4_2']==5)|\n",
    "            (df_new['q39_1_3']==5)|(df_new['q39_2_3']==5)|(df_new['q39_3_3']==5)|(df_new['q39_4_3']==5)|\n",
    "            (df_new['q39_1_4']==5)|(df_new['q39_2_4']==5)|(df_new['q39_3_4']==5)|(df_new['q39_4_4']==5)|\n",
    "            (df_new['q39_1_7']==5)|(df_new['q39_2_7']==5)|(df_new['q39_3_7']==5)|(df_new['q39_4_7']==5)|\n",
    "            (df_new['q39_1_8']==5)|(df_new['q39_2_8']==5)|(df_new['q39_3_8']==5)|(df_new['q39_4_8']==5)|\n",
    "            (df_new['q39_1_9']==5)|(df_new['q39_2_9']==5)|(df_new['q39_3_9']==5)|(df_new['q39_4_9']==5)|\n",
    "            (df_new['q39_1_10']==5)|(df_new['q39_2_10']==5)|(df_new['q39_3_10']==5)|(df_new['q39_4_10']==5)|\n",
    "            (df_new['q39_1_11']==5)|(df_new['q39_2_11']==5)|(df_new['q39_3_11']==5)|(df_new['q39_4_11']==5)|\n",
    "            (df_new['q39_1_12']==5)|(df_new['q39_2_12']==5)|(df_new['q39_3_12']==5)|(df_new['q39_4_12']==5)|\n",
    "            (df_new['q39_1_13']==5)|(df_new['q39_2_13']==5)|(df_new['q39_3_13']==5)|(df_new['q39_4_13']==5)|\n",
    "            (df_new['q39_1_14']==5)|(df_new['q39_2_14']==5)|(df_new['q39_3_14']==5)|(df_new['q39_4_14']==5)|\n",
    "            (df_new['q39_1_15']==5)|(df_new['q39_2_15']==5)|(df_new['q39_3_15']==5)|(df_new['q39_4_15']==5)|\n",
    "            (df_new['q39_1_16']==5)|(df_new['q39_2_16']==5)|(df_new['q39_3_16']==5)|(df_new['q39_4_16']==5)|\n",
    "            (df_new['q39_1_18']==5)|(df_new['q39_2_18']==5)|(df_new['q39_3_18']==5)|(df_new['q39_4_18']==5)\n",
    ",'outcome'] = 0\n",
    "# print(df_new['q39_1_18']<0)\n",
    "print(df_new['outcome'].value_counts())\n",
    "df_new=df_new[~df_new['outcome'].isin([-1])]\n",
    "print(df_new['outcome'].value_counts())"
   ]
  },
  {
   "cell_type": "code",
   "execution_count": 3,
   "metadata": {},
   "outputs": [],
   "source": [
    "df_final = df_new[['outcome','risk','q126','q144','q7q8','q9','q11','q11a','q12','q13','q13a','q13b','q14a','q14y','q14ysu2',\n",
    "'q15_1','q15_2','q15_3','q15_4','q15_5','q15_6','q15_7','q15_8','q15_9','q15_10','q15_11','q15_12','q15_13','q15_14','q15_15','q15_16','q15_17','q15_18','q15_19','q15_20',\n",
    "'q15b_1','q15b_2','q15b_3','q15c','q15d2','q15z','q17_1','q17_2','q17_3','q17_4','q17_5','q17_6','q17_7','q17_8','q17_9','q17_10','q17_11','q17_12','q17_13','q17_14','q17_15','q17_16','q17_17','q17_18','q17_19',\n",
    "'q24a','q24b','q24c','q26_1','q26_2','q26_3','q26_4','q26_5','q26_6','q26_7','q26_8','q26_9','q26_10','q26_11','q26_12','q26_13','q26_14','q26_15','q26_16','q26_17','q26_18','q26_19','q26_20','q26_21','q26_22','q26_23',\n",
    "'q27','q28_1','q28_2','q28_3','q28_4','q28_5','q28_6','q28_7','q28_8','q28_9','q28_10','q28_11','q28_12','q28_13',\n",
    "'q35b_1','q35b_2','q35b_3','q35b_4','q35b_5','q35b_6','q35b_7','q35b_8','q35b_9','q35b_10','q35b_11','q35b_12','q35b_13','q35b_14','q35b_15','q35b_16','q35b_17','q35b_18','q35b_19','q35b_20','q35b_21','q35b_22','q35b_23','q35b_24','q35b_25','q35b_26','q35b_27','q35b_28','q35b_29','q35b_30','q35b_31','q35b_32',\n",
    "'q53_1','q53_2','q53_3','q53_4','q53_7','q53_8','q53_9','q53_10','q53_11','q53_12','q53_13','q53_14','q53_15','q53_16',\n",
    "'q36_1_1','q36_1_2','q36_1_3','q36_1_4','q36_1_7','q36_1_8','q36_1_9','q36_1_10','q36_1_11','q36_1_12','q36_1_13','q36_1_14','q36_1_15','q36_1_16','q36_1_18',\n",
    "'q36_2_1','q36_2_2','q36_2_3','q36_2_4','q36_2_7','q36_2_8','q36_2_9','q36_2_10','q36_2_11','q36_2_12','q36_2_13','q36_2_14','q36_2_15','q36_2_16','q36_2_18',\n",
    "'q36_3_1','q36_3_2','q36_3_3','q36_3_4','q36_3_7','q36_3_8','q36_3_9','q36_3_10','q36_3_11','q36_3_12','q36_3_13','q36_3_14','q36_3_15','q36_3_16','q36_3_18',\n",
    "'q36_4_1','q36_4_2','q36_4_3','q36_4_4','q36_4_7','q36_4_8','q36_4_9','q36_4_10','q36_4_11','q36_4_12','q36_4_13','q36_4_14','q36_4_15','q36_4_16','q36_4_18',\n",
    "'q54_1','q54_2','q54_3','q54_4','q54_7','q54_8','q54_9','q54_10','q54_11','q54_12','q54_13','q54_14','q54_15','q54_16',\n",
    "'q38_1_1','q38_1_2','q38_1_3','q38_1_4','q38_1_7','q38_1_8','q38_1_9','q38_1_10','q38_1_11','q38_1_12','q38_1_13','q38_1_14','q38_1_15','q38_1_16','q38_1_18',\n",
    "'q38_2_1','q38_2_2','q38_2_3','q38_2_4','q38_2_7','q38_2_8','q38_2_9','q38_2_10','q38_2_11','q38_2_12','q38_2_13','q38_2_14','q38_2_15','q38_2_16','q38_2_18',\n",
    "'q38_3_1','q38_3_2','q38_3_3','q38_3_4','q38_3_7','q38_3_8','q38_3_9','q38_3_10','q38_3_11','q38_3_12','q38_3_13','q38_3_14','q38_3_15','q38_3_16','q38_3_18',\n",
    "'q38_4_1','q38_4_2','q38_4_3','q38_4_4','q38_4_7','q38_4_8','q38_4_9','q38_4_10','q38_4_11','q38_4_12','q38_4_13','q38_4_14','q38_4_15','q38_4_16','q38_4_18',\n",
    "'q56_1','q56_2','q56_3','q56_4','q56_7','q56_8','q56_9','q56_10','q56_11','q56_12','q56_13','q56_14','q56_15','q56_16',\n",
    "'q42_1_1','q42_1_2','q42_1_3','q42_1_4','q42_1_7','q42_1_8','q42_1_9','q42_1_10','q42_1_11','q42_1_12','q42_1_13','q42_1_14','q42_1_15','q42_1_16','q42_1_18',\n",
    "'q42_2_1','q42_2_2','q42_2_3','q42_2_4','q42_2_7','q42_2_8','q42_2_9','q42_2_10','q42_2_11','q42_2_12','q42_2_13','q42_2_14','q42_2_15','q42_2_16','q42_2_18',\n",
    "'q42_3_1','q42_3_2','q42_3_3','q42_3_4','q42_3_7','q42_3_8','q42_3_9','q42_3_10','q42_3_11','q42_3_12','q42_3_13','q42_3_14','q42_3_15','q42_3_16','q42_3_18',\n",
    "'q42_4_1','q42_4_2','q42_4_3','q42_4_4','q42_4_7','q42_4_8','q42_4_9','q42_4_10','q42_4_11','q42_4_12','q42_4_13','q42_4_14','q42_4_15','q42_4_16','q42_4_18',\n",
    "'q60_1','q60_2','q60_3','q60_4','q60_7','q60_8','q60_9','q60_10','q60_11','q60_12','q60_13','q60_14','q60_15','q60_16',\n",
    "'q43_1_1','q43_1_2','q43_1_3','q43_1_4','q43_1_7','q43_1_8','q43_1_9','q43_1_10','q43_1_11','q43_1_12','q43_1_13','q43_1_14','q43_1_15','q43_1_16','q43_1_18',\n",
    "'q43_2_1','q43_2_2','q43_2_3','q43_2_4','q43_2_7','q43_2_8','q43_2_9','q43_2_10','q43_2_11','q43_2_12','q43_2_13','q43_2_14','q43_2_15','q43_2_16','q43_2_18',\n",
    "'q43_3_1','q43_3_2','q43_3_3','q43_3_4','q43_3_7','q43_3_8','q43_3_9','q43_3_10','q43_3_11','q43_3_12','q43_3_13','q43_3_14','q43_3_15','q43_3_16','q43_3_18',\n",
    "'q43_4_1','q43_4_2','q43_4_3','q43_4_4','q43_4_7','q43_4_8','q43_4_9','q43_4_10','q43_4_11','q43_4_12','q43_4_13','q43_4_14','q43_4_15','q43_4_16','q43_4_18',\n",
    "'q61_1','q61_2','q61_3','q61_4','q61_7','q61_8','q61_9','q61_10','q61_11','q61_12','q61_13','q61_14','q61_15','q61_16',\n",
    "'q75_1','q75_2','q75_3','q78','q78b','q78c_1','q78c_2','q78c_3','q78c_4','q78c_5','q78c_6','q81','q81x',\n",
    "'q84_1','q84_2','q84_3','q84_4','q84_5','q84_6','q84_7','q84_8','q84_9','q84_10','q84_11','q84_12','q84_13','q84_14','q84_15','q84_16','q84_17','q84_18',\n",
    "'q85','q103106','q111112','q113','qbb2','qbb3','q115','q116_p','q116_l','q117','q119','q120']]"
   ]
  },
  {
   "cell_type": "code",
   "execution_count": 4,
   "metadata": {},
   "outputs": [],
   "source": [
    "# split data into 80/20 while keeping the distribution of bad loans in test set same as that in the pre-split dataset\n",
    "X = df_final.drop(['outcome'], axis=1)\n",
    "y = df_final['outcome']\n",
    "X_train, X_test, y_train, y_test = train_test_split(X, y, test_size = 0.2, \n",
    "                                                    random_state = 42, stratify = y)\n",
    "\n",
    "                                                    # hard copy the X datasets to avoid Pandas' SetttingWithCopyWarning when we play around with this data later on.\n",
    "# this is currently an open issue between Pandas and Scikit-Learn teams\n",
    "X_train, X_test = X_train.copy(), X_test.copy()"
   ]
  },
  {
   "cell_type": "code",
   "execution_count": 5,
   "metadata": {},
   "outputs": [
    {
     "name": "stdout",
     "output_type": "stream",
     "text": [
      "      Feature  p-value\n",
      "0     q36_3_2      0.0\n",
      "1        q24c      0.0\n",
      "2        q24b      0.0\n",
      "3        q24a      0.0\n",
      "4        q78b      0.0\n",
      "..        ...      ...\n",
      "479  q42_2_16      1.0\n",
      "480  q42_2_18      1.0\n",
      "481  q42_3_14      1.0\n",
      "482   q42_1_9      1.0\n",
      "483  q38_2_10      1.0\n",
      "\n",
      "[484 rows x 2 columns]\n",
      "480\n"
     ]
    }
   ],
   "source": [
    "# first divide training data into categorical and numerical subsets\n",
    "X_train_cat = X_train.copy()\n",
    "# X_train_num = X_train[[]].copy()\n",
    "X_train_with_missing = X_train.copy()\n",
    "X_train_with_missing.replace(-99.99, None, inplace=True)\n",
    "# define an empty dictionary to store chi-squared test results\n",
    "chi2_check = {}\n",
    "\n",
    "# loop over each column in the training set to calculate chi-statistic with the target variable\n",
    "for column in X_train_cat:\n",
    "    chi, p, dof, ex = chi2_contingency(pandas.crosstab(y_train, X_train_cat[column]))\n",
    "    chi2_check.setdefault('Feature',[]).append(column)\n",
    "    chi2_check.setdefault('p-value',[]).append(round(p, 10))\n",
    "\n",
    "# convert the dictionary to a DF\n",
    "chi2_result = pandas.DataFrame(data = chi2_check)\n",
    "chi2_result.sort_values(by = ['p-value'], ascending = True, ignore_index = True, inplace = True)\n",
    "\n",
    "print(chi2_result)\n",
    "print(len(chi2_result.iloc[4:, 0].to_list()))"
   ]
  },
  {
   "cell_type": "code",
   "execution_count": 6,
   "metadata": {},
   "outputs": [
    {
     "name": "stdout",
     "output_type": "stream",
     "text": [
      " 1.00     1105\n",
      " 2.00      524\n",
      "-99.99     230\n",
      " 3.00        2\n",
      " 4.00        1\n",
      "Name: q11a, dtype: int64\n",
      "1.0    1105\n",
      "2.0     524\n",
      "3.0       2\n",
      "4.0       1\n",
      "Name: q11a, dtype: int64\n"
     ]
    }
   ],
   "source": [
    "print(X_train['q11a'].value_counts())\n",
    "print(X_train_with_missing['q11a'].value_counts())"
   ]
  },
  {
   "cell_type": "code",
   "execution_count": 4,
   "metadata": {},
   "outputs": [
    {
     "name": "stdout",
     "output_type": "stream",
     "text": [
      "2.0    750\n",
      "3.0    624\n",
      "4.0    458\n",
      "1.0    302\n",
      "5.0    194\n",
      "Name: risk, dtype: int64\n"
     ]
    }
   ],
   "source": [
    "print(df_final['risk'].value_counts(normalize=True))"
   ]
  },
  {
   "cell_type": "markdown",
   "metadata": {},
   "source": [
    "### WoE Binning and Feature Engineering\n",
    "\n",
    "Weight of Evidence (WoE) and Information Value (IV) are used for feature engineering and selection and are extensively used in the credit scoring domain.\n",
    "\n",
    "WoE is a measure of the predictive power of an independent variable in relation to the target variable. It measures the extent a specific feature can differentiate between target classes, in our case: good and bad customers.\n",
    "\n",
    "IV assists with ranking our features based on their relative importance.\n",
    "\n",
    "#### Weight of Evidence (WoE)\n",
    "The formula to caculate WoE is as follow:\n",
    "$$\n",
    "W o E_i=\\ln \\left(\\frac{\\% \\text { of good customers }}{\\% \\text { of bad customers }}\\right)\n",
    "$$\n",
    "\n",
    "Calculate WoE for each unique value (bin) of a categorical variable, e.g., for each of gender:Men, gender:Women, etc.\n",
    "\n",
    "Once WoE has been calculated for each bin of both categorical and numerical features, combine bins as per the following rules (called coarse classing)\n",
    "\n",
    "#### Rules related to combining WoE bins\n",
    "1. Each bin should have at least $5\\%$ of the observations\n",
    "2. Each bin should be non-zero for both good and bad loans\n",
    "3. The WOE should be distinct for each category. Similar groups should be aggregated or binned together. It is because the bins with similar WoE have almost the same proportion of good or bad loans, implying the same predictive power\n",
    "4. The WOE should be monotonic, i.e., either growing or decreasing with the bins\n",
    "5. Missing values are binned separately\n",
    "\n",
    "#### Information Value (IV)\n",
    "IV is calculated as follows:\n",
    "$$\n",
    "I V=\\sum(\\% \\text { of good customers }-\\% \\text { of bad customers }) \\times W o E\n",
    "$$\n",
    "\n",
    "By convention, the values of IV in credit scoring is interpreted as follows:\n",
    "| Information Value      | Variable Predictiveness |\n",
    "| ----------- | ----------- |\n",
    "| less than 0.02  | Not useful for prediction  |\n",
    "| 0.02 to 0.1   | Weak predictive power        |\n",
    "| 0.1 to 0.3   | Medium predictive power       |\n",
    "| 0.3 to 0.5   | Strong predictive power       |\n",
    "| greater than 0.5   | Suspicious predictive power |\n",
    "\n",
    "Once we have calculated and visualized WoE and IV values, next comes the most tedious task to select which bins to combine and whether to drop any feature given its IV. The shortlisted features that we are left with until this point will be treated in one of the following ways:\n",
    "- There is no need to combine WoE bins or create a separate missing category given the discrete and monotonic WoE and absence of any missing values\n",
    "- Combine WoE bins with very low observations with the neighboring bin\n",
    "- Combine WoE bins with similar WoE values together, potentially with a separate missing category\n",
    "- Ignore features with a low or very high IV value"
   ]
  },
  {
   "cell_type": "code",
   "execution_count": 9,
   "metadata": {},
   "outputs": [],
   "source": [
    "# function to calculate WoE and IV of categorical features\n",
    "# The function takes 3 arguments: a dataframe (X_train_prepr), a string (column name), and a dataframe (y_train_prepr).\n",
    "def woe_discrete(df, cat_variabe_name, y_df):\n",
    "    df = pandas.concat([df[cat_variabe_name], y_df], axis = 1)\n",
    "    df = pandas.concat([df.groupby(df.columns.values[0], as_index = False)[df.columns.values[1]].count(),\n",
    "                    df.groupby(df.columns.values[0], as_index = False)[df.columns.values[1]].mean()], axis = 1)\n",
    "    df = df.iloc[:, [0, 1, 3]]\n",
    "    df.columns = [df.columns.values[0], 'n_obs', 'prop_good']\n",
    "    df['prop_n_obs'] = df['n_obs'] / df['n_obs'].sum()\n",
    "    df['n_good'] = df['prop_good'] * df['n_obs']\n",
    "    df['n_bad'] = (1 - df['prop_good']) * df['n_obs']\n",
    "    df['prop_n_good'] = df['n_good'] / df['n_good'].sum()\n",
    "    df['prop_n_bad'] = df['n_bad'] / df['n_bad'].sum()\n",
    "    df['WoE'] = numpy.log(df['prop_n_good'] / df['prop_n_bad'])\n",
    "    df = df.sort_values(['WoE'])\n",
    "    df = df.reset_index(drop = True)\n",
    "    df['diff_prop_good'] = df['prop_good'].diff().abs()\n",
    "    df['diff_WoE'] = df['WoE'].diff().abs()\n",
    "    df['IV'] = (df['prop_n_good'] - df['prop_n_bad']) * df['WoE']\n",
    "    df['IV'] = df['IV'].sum()\n",
    "    return df\n",
    "\n",
    "# We set the default style of the graphs to the seaborn style. \n",
    "sns.set()\n",
    "# function to plot WoE value\n",
    "def plot_by_woe(df_WoE, rotation_of_x_axis_labels = 0):\n",
    "    x = numpy.array(df_WoE.iloc[:, 0].apply(str))\n",
    "    y = df_WoE['WoE']\n",
    "    plt.figure(figsize=(18, 6))\n",
    "    plt.plot(x, y, marker = 'o', linestyle = '--', color = 'k')\n",
    "    plt.xlabel(df_WoE.columns[0])\n",
    "    plt.ylabel('Weight of Evidence')\n",
    "    plt.title(str('Weight of Evidence by ' + df_WoE.columns[0]))\n",
    "    plt.xticks(rotation = rotation_of_x_axis_labels)\n"
   ]
  },
  {
   "cell_type": "code",
   "execution_count": 14,
   "metadata": {},
   "outputs": [
    {
     "data": {
      "text/html": [
       "<div>\n",
       "<style scoped>\n",
       "    .dataframe tbody tr th:only-of-type {\n",
       "        vertical-align: middle;\n",
       "    }\n",
       "\n",
       "    .dataframe tbody tr th {\n",
       "        vertical-align: top;\n",
       "    }\n",
       "\n",
       "    .dataframe thead th {\n",
       "        text-align: right;\n",
       "    }\n",
       "</style>\n",
       "<table border=\"1\" class=\"dataframe\">\n",
       "  <thead>\n",
       "    <tr style=\"text-align: right;\">\n",
       "      <th></th>\n",
       "      <th>q126</th>\n",
       "      <th>n_obs</th>\n",
       "      <th>prop_good</th>\n",
       "      <th>prop_n_obs</th>\n",
       "      <th>n_good</th>\n",
       "      <th>n_bad</th>\n",
       "      <th>prop_n_good</th>\n",
       "      <th>prop_n_bad</th>\n",
       "      <th>WoE</th>\n",
       "      <th>diff_prop_good</th>\n",
       "      <th>diff_WoE</th>\n",
       "      <th>IV</th>\n",
       "    </tr>\n",
       "  </thead>\n",
       "  <tbody>\n",
       "    <tr>\n",
       "      <th>0</th>\n",
       "      <td>1</td>\n",
       "      <td>1467</td>\n",
       "      <td>0.878664</td>\n",
       "      <td>0.787863</td>\n",
       "      <td>1289.0</td>\n",
       "      <td>178.0</td>\n",
       "      <td>0.785018</td>\n",
       "      <td>0.809091</td>\n",
       "      <td>-0.030204</td>\n",
       "      <td>NaN</td>\n",
       "      <td>NaN</td>\n",
       "      <td>0.003711</td>\n",
       "    </tr>\n",
       "    <tr>\n",
       "      <th>1</th>\n",
       "      <td>3</td>\n",
       "      <td>26</td>\n",
       "      <td>0.884615</td>\n",
       "      <td>0.013963</td>\n",
       "      <td>23.0</td>\n",
       "      <td>3.0</td>\n",
       "      <td>0.014007</td>\n",
       "      <td>0.013636</td>\n",
       "      <td>0.026839</td>\n",
       "      <td>0.005951</td>\n",
       "      <td>0.057043</td>\n",
       "      <td>0.003711</td>\n",
       "    </tr>\n",
       "    <tr>\n",
       "      <th>2</th>\n",
       "      <td>2</td>\n",
       "      <td>369</td>\n",
       "      <td>0.894309</td>\n",
       "      <td>0.198174</td>\n",
       "      <td>330.0</td>\n",
       "      <td>39.0</td>\n",
       "      <td>0.200974</td>\n",
       "      <td>0.177273</td>\n",
       "      <td>0.125488</td>\n",
       "      <td>0.009694</td>\n",
       "      <td>0.098649</td>\n",
       "      <td>0.003711</td>\n",
       "    </tr>\n",
       "  </tbody>\n",
       "</table>\n",
       "</div>"
      ],
      "text/plain": [
       "   q126  n_obs  prop_good  prop_n_obs  n_good  n_bad  prop_n_good  prop_n_bad  \\\n",
       "0     1   1467   0.878664    0.787863  1289.0  178.0     0.785018    0.809091   \n",
       "1     3     26   0.884615    0.013963    23.0    3.0     0.014007    0.013636   \n",
       "2     2    369   0.894309    0.198174   330.0   39.0     0.200974    0.177273   \n",
       "\n",
       "        WoE  diff_prop_good  diff_WoE        IV  \n",
       "0 -0.030204             NaN       NaN  0.003711  \n",
       "1  0.026839        0.005951  0.057043  0.003711  \n",
       "2  0.125488        0.009694  0.098649  0.003711  "
      ]
     },
     "execution_count": 14,
     "metadata": {},
     "output_type": "execute_result"
    }
   ],
   "source": [
    "woe_discrete(X_train_with_missing, 'q126', y_train)"
   ]
  },
  {
   "cell_type": "code",
   "execution_count": 15,
   "metadata": {},
   "outputs": [
    {
     "data": {
      "image/png": "[encoded data removed]",
      "text/plain": [
       "<Figure size 1296x432 with 1 Axes>"
      ]
     },
     "metadata": {},
     "output_type": "display_data"
    }
   ],
   "source": [
    "plot_by_woe(woe_discrete(X_train_with_missing, 'q126', y_train))"
   ]
  },
  {
   "cell_type": "markdown",
   "metadata": {},
   "source": [
    "### one-hot coding for some variables  "
   ]
  },
  {
   "cell_type": "code",
   "execution_count": 5,
   "metadata": {},
   "outputs": [],
   "source": [
    "#those variables without missing values \n",
    "\n",
    "df_final = pandas.get_dummies(df_final, columns=['risk'])\n",
    "\n",
    "df_final = pandas.get_dummies(df_final, columns=['q126'])\n",
    "\n",
    "df_final = pandas.get_dummies(df_final, columns=['q144'])\n",
    "\n",
    "df_final = pandas.get_dummies(df_final, columns=['q7q8'])\n",
    "\n",
    "df_final = pandas.get_dummies(df_final, columns=['q9'])\n",
    "\n",
    "df_final = pandas.get_dummies(df_final, columns=['q11'])\n",
    "\n",
    "df_final = pandas.get_dummies(df_final, columns=['q12'])\n",
    "\n",
    "df_final = pandas.get_dummies(df_final, columns=['q13'])\n",
    "\n",
    "df_final = pandas.get_dummies(df_final, columns=['q14y'])\n",
    "\n",
    "df_final = pandas.get_dummies(df_final, columns=['q14ysu2'])\n",
    "\n",
    "df_final = pandas.get_dummies(df_final, columns=['q15d2'])\n",
    "\n",
    "df_final = pandas.get_dummies(df_final, columns=['q15z'])\n",
    "\n",
    "df_final = pandas.get_dummies(df_final, columns=['q24a'])\n",
    "\n",
    "df_final = pandas.get_dummies(df_final, columns=['q24b'])\n",
    "\n",
    "df_final = pandas.get_dummies(df_final, columns=['q24c'])\n",
    "\n",
    "df_final = pandas.get_dummies(df_final, columns=['q78'])\n",
    "\n",
    "df_final = pandas.get_dummies(df_final, columns=['q103106'])\n",
    "\n",
    "df_final = pandas.get_dummies(df_final, columns=['q120'])"
   ]
  },
  {
   "cell_type": "code",
   "execution_count": 6,
   "metadata": {},
   "outputs": [],
   "source": [
    "#those variables with missing values but handled \n",
    "# df_final = df_final.drop(df_final[df_final['q15_1'] == -99.99].index)\n",
    "# df_final = pandas.get_dummies(df_final, columns=df_final.filter(like='q15_').columns.tolist())\n",
    "\n",
    "# df_final[df_final.filter(like='q35b').columns.tolist()+df_final.filter(like='q53').columns.tolist()].replace(-99.99,0.00,inplace=True)\n",
    "\n",
    "df_temp  = df_final.copy()\n",
    "cols = df_temp.filter(like='q35b').columns.tolist()+df_temp.filter(like='q53').columns.tolist()\n",
    "df_final[cols] = df_temp[cols].replace(-99.99,0.00,inplace=False)\n",
    "\n"
   ]
  },
  {
   "cell_type": "code",
   "execution_count": 7,
   "metadata": {},
   "outputs": [
    {
     "name": "stdout",
     "output_type": "stream",
     "text": [
      "Empty DataFrame\n",
      "Columns: [q15_1, q15_2, q15_3, q15_4, q15_5, q15_6, q15_7, q15_8, q15_9, q15_10, q15_11, q15_12, q15_13, q15_14, q15_15, q15_16, q15_17, q15_18, q15_19, q15_20]\n",
      "Index: []\n",
      " 0.00     1195\n",
      " 1.00     1128\n",
      "-99.99       5\n",
      "Name: q15_1, dtype: int64\n",
      "0.0    1195\n",
      "1.0    1128\n",
      "Name: q15_1, dtype: int64\n"
     ]
    }
   ],
   "source": [
    "# for example, question 15 current external finance\n",
    "print(df_final.filter(like='q15_').head(0))\n",
    "print(df_final['q15_1'].value_counts())\n",
    "# drop q15_1 where values equal to -99.99\n",
    "df_final = df_final.drop(df_final[df_final['q15_1'] == -99.99].index)\n",
    "print(df_final['q15_1'].value_counts())"
   ]
  },
  {
   "cell_type": "code",
   "execution_count": 8,
   "metadata": {},
   "outputs": [],
   "source": [
    "#those variables with missing values but not handled \n",
    "df_final = pandas.get_dummies(df_final, columns=['q11a'])\n",
    "\n",
    "df_final = pandas.get_dummies(df_final, columns=['q13a'])\n",
    "\n",
    "df_final = pandas.get_dummies(df_final, columns=['q13b'])\n",
    "\n",
    "df_final = pandas.get_dummies(df_final, columns=['q14a'])\n",
    "\n",
    "df_final = pandas.get_dummies(df_final, columns=df_final.filter(like='q15b_').columns.tolist())\n",
    "\n",
    "df_final = pandas.get_dummies(df_final, columns=['q15c'])\n",
    "\n",
    "df_final = pandas.get_dummies(df_final, columns=df_final.filter(like='q17_').columns.tolist())\n",
    "\n",
    "df_final = pandas.get_dummies(df_final, columns=df_final.filter(like='q26_').columns.tolist())\n",
    "\n",
    "df_final = pandas.get_dummies(df_final, columns=['q27'])\n",
    "\n",
    "df_final = pandas.get_dummies(df_final, columns=df_final.filter(like='q28_').columns.tolist())\n",
    "\n",
    "df_temp  = df_final.copy()\n",
    "cols = df_temp.filter(like='q38').columns.tolist()+df_temp.filter(like='q56').columns.tolist()\n",
    "df_final[cols] = df_temp[cols].replace([-99.99, 3.00],0.00,inplace=False)\n",
    "\n",
    "df_final['q38_56'] = -99.99\n",
    "for i in cols:\n",
    "    df_final.loc[df_final[i] == 1.00,'q38_56'] = 1.00\n",
    "    df_final.loc[df_final[i] == 2.00,'q38_56'] = 2.00\n",
    "    df_final.drop(i,axis=1,inplace=True)\n",
    "\n",
    "df_final = pandas.get_dummies(df_final, columns=['q38_56'])\n",
    "\n",
    "df_temp  = df_final.copy()\n",
    "cols = df_temp.filter(like='q42').columns.tolist()+df_temp.filter(like='q60').columns.tolist()\n",
    "df_final[cols] = df_temp[cols].replace([-99.99, 3.00],0.00,inplace=False)\n",
    "\n",
    "df_final['q42_60'] = -99.99\n",
    "for i in cols:\n",
    "    df_final.loc[df_final[i] == 1.00,'q42_60'] = 1.00\n",
    "    df_final.loc[df_final[i] == 2.00,'q42_60'] = 2.00\n",
    "    df_final.drop(i,axis=1,inplace=True)\n",
    "\n",
    "df_final = pandas.get_dummies(df_final, columns=['q42_60'])\n",
    "\n",
    "df_temp  = df_final.copy()\n",
    "cols = df_temp.filter(like='q43').columns.tolist()+df_temp.filter(like='q61').columns.tolist()\n",
    "df_final[cols] = df_temp[cols].replace([-99.99, 3.00],0.00,inplace=False)\n",
    "\n",
    "df_final['q43_61'] = -99.99\n",
    "for i in cols:\n",
    "    df_final.loc[df_final[i] == 1.00,'q43_61'] = 1.00\n",
    "    df_final.loc[df_final[i] == 2.00,'q43_61'] = 2.00\n",
    "    df_final.drop(i,axis=1,inplace=True)\n",
    "\n",
    "df_final = pandas.get_dummies(df_final, columns=['q43_61'])\n",
    "\n",
    "df_final = pandas.get_dummies(df_final, columns=['q78b'])\n",
    "\n",
    "df_final = pandas.get_dummies(df_final, columns=df_final.filter(like='q78c').columns.tolist())\n",
    "\n",
    "df_final = pandas.get_dummies(df_final, columns=df_final.filter(like='q81').columns.tolist())\n",
    "\n",
    "df_final = pandas.get_dummies(df_final, columns=df_final.filter(like='q84_').columns.tolist())\n",
    "\n",
    "df_final = pandas.get_dummies(df_final, columns=['q85'])\n",
    "\n",
    "df_final = pandas.get_dummies(df_final, columns=['q111112'])\n",
    "\n",
    "df_final = pandas.get_dummies(df_final, columns=['q113'])\n",
    "\n",
    "df_final = pandas.get_dummies(df_final, columns=df_final.filter(like='qbb').columns.tolist())\n",
    "\n",
    "df_final['q115_116']  = -99.99\n",
    "df_final.loc[df_final['q115'] == 3.00,'q115_116'] = 0.00\n",
    "df_final.loc[df_final['q116_p'] == 1.00,'q115_116'] = 1.00\n",
    "df_final.loc[df_final['q116_p'] == 2.00,'q115_116'] = 2.00\n",
    "df_final.loc[df_final['q116_p'] == 3.00,'q115_116'] = 3.00\n",
    "df_final.loc[df_final['q116_p'] == 4.00,'q115_116'] = 4.00\n",
    "df_final.loc[df_final['q116_p'] == 5.00,'q115_116'] = 5.00\n",
    "df_final.loc[df_final['q116_l'] == 1.00,'q115_116'] = -1.00\n",
    "df_final.loc[df_final['q116_l'] == 2.00,'q115_116'] = -2.00\n",
    "df_final.loc[df_final['q116_l'] == 3.00,'q115_116'] = -3.00\n",
    "df_final.loc[df_final['q116_l'] == 4.00,'q115_116'] = -4.00\n",
    "df_final.loc[df_final['q116_l'] == 5.00,'q115_116'] = -5.00\n",
    "\n",
    "df_final = pandas.get_dummies(df_final, columns=['q115_116'])\n",
    "\n",
    "df_final = pandas.get_dummies(df_final, columns=['q117'])\n",
    "\n",
    "df_final = pandas.get_dummies(df_final, columns=['q119'])"
   ]
  },
  {
   "cell_type": "code",
   "execution_count": 9,
   "metadata": {},
   "outputs": [
    {
     "name": "stdout",
     "output_type": "stream",
     "text": [
      "Empty DataFrame\n",
      "Columns: [q11a_-99.99, q11a_1.0, q11a_2.0, q11a_3.0, q11a_4.0]\n",
      "Index: []\n",
      "0    2044\n",
      "1     279\n",
      "Name: q11a_-99.99, dtype: int64\n"
     ]
    }
   ],
   "source": [
    "# for examople, question Q.11a Is your business a family owned business, that is one which is majority owned by members of the same family?\n",
    "print(df_final.filter(like='q11a_').head(0))\n",
    "print(df_final['q11a_-99.99'].value_counts())"
   ]
  },
  {
   "cell_type": "code",
   "execution_count": 10,
   "metadata": {},
   "outputs": [
    {
     "name": "stdout",
     "output_type": "stream",
     "text": [
      "q17_1_-99.99  q17_1_0.0  q17_1_1.0  q17_2_-99.99  q17_2_0.0  q17_2_1.0  q17_3_-99.99  q17_3_0.0  q17_3_1.0  q17_4_-99.99  q17_4_0.0  q17_4_1.0  q17_5_-99.99  q17_5_0.0  q17_5_1.0  q17_6_-99.99  q17_6_0.0  q17_6_1.0  q17_7_-99.99  q17_7_0.0  q17_7_1.0  q17_8_-99.99  q17_8_0.0  q17_8_1.0  q17_9_-99.99  q17_9_0.0  q17_9_1.0  q17_10_-99.99  q17_10_0.0  q17_10_1.0  q17_11_-99.99  q17_11_0.0  q17_12_-99.99  q17_12_0.0  q17_13_-99.99  q17_13_0.0  q17_13_1.0  q17_14_-99.99  q17_14_0.0  q17_14_1.0  q17_15_-99.99  q17_15_0.0  q17_15_1.0  q17_16_-99.99  q17_16_0.0  q17_16_1.0  q17_17_-99.99  q17_17_0.0  q17_17_1.0  q17_18_-99.99  q17_18_0.0  q17_18_1.0  q17_19_-99.99  q17_19_0.0  q17_19_1.0\n",
      "1             0          0          1             0          0          1             0          0          1             0          0          1             0          0          1             0          0          1             0          0          1             0          0          1             0          0          1              0           0           1              0           1              0           1              0           0           1              0           0           1              0           0           1              0           0           1              0           0           1              0           0           1              0           0             2137\n",
      "0             1          0          0             0          1          0             1          0          0             1          0          0             1          0          0             1          0          0             1          0          0             1          0          0             1          0          0              1           0           0              1           0              1           0              1           0           0              1           0           0              1           0           0              1           0           0              1           0           0              1           0           0              1           0               86\n",
      "                                                                                                                                                                                                                                      0          1          0             1          0          0             1          0          0              1           0           0              1           0              1           0              1           0           0              1           0           0              1           0           0              1           0           0              1           0           0              1           0           0              1           0               14\n",
      "                                                  1          0          0             1          0          0             1          0          0             1          0          0             1          0          0             0          1          0             1          0          0             1          0          0              1           0           0              1           0              1           0              1           0           0              1           0           0              1           0           0              1           0           0              1           0           0              1           0           0              1           0                9\n",
      "                                                  0          1          0             1          0          0             1          0          0             1          0          0             1          0          0             1          0          0             0          1          0             1          0          0              1           0           0              1           0              1           0              1           0           0              1           0           0              1           0           0              1           0           0              1           0           0              1           0           0              1           0                6\n",
      "                                                  1          0          0             1          0          0             1          0          0             1          0          0             1          0          0             1          0          0             1          0          0             1          0          0              1           0           0              1           0              1           0              1           0           0              1           0           0              1           0           0              1           0           0              0           1           0              1           0           0              1           0                6\n",
      "                                                                                                                                                                                                                                                                                                                                                                                                                                                                                                                              0           1           0              1           0           0              1           0           0              1           0           0              1           0                6\n",
      "                                                                                                                                                                                                                                                                          0          1          0             1          0          0              1           0           0              1           0              1           0              1           0           0              1           0           0              1           0           0              1           0           0              1           0           0              1           0           0              1           0                5\n",
      "                                                                                                                                                                                                                                                                          1          0          0             1          0          0              1           0           0              1           0              1           0              1           0           0              1           0           0              1           0           0              1           0           0              1           0           0              1           0           0              0           1                4\n",
      "                                                  0          1          0             1          0          0             1          0          0             1          0          0             1          0          0             1          0          0             1          0          0             1          0          0              1           0           0              1           0              1           0              1           0           0              1           0           0              1           0           0              1           0           0              0           1           0              1           0           0              1           0                4\n",
      "              0          1          0             1          0          0             1          0          0             1          0          0             1          0          0             1          0          0             1          0          0             1          0          0             1          0          0              1           0           0              1           0              1           0              1           0           0              1           0           0              1           0           0              1           0           0              1           0           0              1           0           0              1           0                4\n",
      "                                                  0          1          0             1          0          0             1          0          0             1          0          0             1          0          0             1          0          0             1          0          0             1          0          0              1           0           0              1           0              1           0              1           0           0              1           0           0              1           0           0              1           0           0              1           0           0              1           0           0              1           0                3\n",
      "              1          0          0             1          0          0             1          0          0             1          0          0             1          0          0             1          0          0             1          0          0             1          0          0             1          0          0              1           0           0              1           0              1           0              1           0           0              1           0           0              1           0           0              1           0           0              1           0           0              0           1           0              1           0                3\n",
      "                                                  0          1          0             1          0          0             1          0          0             1          0          0             1          0          0             0          1          0             0          1          0             1          0          0              1           0           0              1           0              1           0              1           0           0              1           0           0              1           0           0              1           0           0              1           0           0              1           0           0              1           0                2\n",
      "                                                                                                                                                                                                                                      1          0          0             1          0          0             1          0          0              1           0           0              1           0              1           0              0           1           0              1           0           0              1           0           0              1           0           0              1           0           0              1           0           0              1           0                2\n",
      "                                                                                                                          0          1          0             1          0          0             1          0          0             1          0          0             1          0          0             1          0          0              1           0           0              1           0              1           0              1           0           0              1           0           0              1           0           0              1           0           0              1           0           0              1           0           0              1           0                2\n",
      "                                                                                                                                                                                                                                      0          1          0             1          0          0             1          0          0              1           0           0              1           0              1           0              1           0           0              1           0           0              1           0           0              1           0           0              1           0           0              1           0           0              1           0                2\n",
      "                                                  1          0          0             1          0          0             1          0          0             1          0          0             1          0          0             1          0          0             1          0          0             1          0          0              1           0           0              1           0              1           0              0           1           0              1           0           0              1           0           0              1           0           0              1           0           0              1           0           0              1           0                2\n",
      "                                                                                                                          0          1          0             1          0          0             1          0          0             1          0          0             1          0          0             1          0          0              1           0           0              1           0              1           0              1           0           0              1           0           0              1           0           0              1           0           0              1           0           0              1           0           0              1           0                2\n",
      "                                                                                                                          1          0          0             0          1          0             1          0          0             1          0          0             1          0          0             1          0          0              1           0           0              1           0              1           0              1           0           0              1           0           0              1           0           0              1           0           0              1           0           0              1           0           0              1           0                2\n",
      "                                                                                                                                                              1          0          0             0          1          0             1          0          0             1          0          0             1          0          0              1           0           0              1           0              1           0              1           0           0              1           0           0              1           0           0              1           0           0              1           0           0              1           0           0              1           0                2\n",
      "                                                  0          1          0             1          0          0             1          0          0             1          0          0             1          0          0             0          1          0             1          0          0             1          0          0              1           0           0              1           0              1           0              1           0           0              1           0           0              1           0           0              0           1           0              1           0           0              1           0           0              1           0                2\n",
      "                                                  1          0          0             1          0          0             1          0          0             1          0          0             1          0          0             0          1          0             1          0          0             1          0          0              1           0           0              1           0              1           0              1           0           0              1           0           0              0           1           0              0           1           0              1           0           0              1           0           0              1           0                1\n",
      "                                                                                                                                                                                                                                      1          0          0             1          0          0             1          0          0              1           0           0              1           0              1           0              1           0           0              0           1           0              1           0           0              1           0           0              1           0           0              1           0           0              1           0                1\n",
      "                                                                                                                                                                                                                                                                                                              0          1          0              1           0           0              1           0              1           0              1           0           0              1           0           0              1           0           0              1           0           0              1           0           0              1           0           0              1           0                1\n",
      "                                                                                                                                                                                                                                                                                                                                                                                                                                                0           1           0              1           0           0              1           0           0              1           0           0              1           0           0              1           0           0              1           0                1\n",
      "                                                                                                                                                                                                                                                                                                              1          0          0              1           0           0              1           0              1           0              1           0           0              1           0           0              1           0           0              0           1           0              1           0           0              1           0           0              1           0                1\n",
      "              0          1          0             0          1          0             1          0          0             1          0          0             1          0          0             1          0          0             0          1          0             1          0          0             1          0          0              1           0           0              1           0              1           0              1           0           0              1           0           0              1           0           0              0           1           0              1           0           0              1           0           0              1           0                1\n",
      "              1          0          0             1          0          0             1          0          0             1          0          0             1          0          0             1          0          0             0          1          0             1          0          0             1          0          0              0           1           0              1           0              1           0              1           0           0              1           0           0              1           0           0              1           0           0              1           0           0              1           0           0              1           0                1\n",
      "                                                                                                                                                                                                                                                                                                              0          1          0              1           0           0              1           0              1           0              1           0           0              1           0           0              1           0           0              1           0           0              1           0           0              1           0           0              1           0                1\n",
      "                                                                                                                                                                                                                                                                          0          1          0             1          0          0              1           0           0              1           0              1           0              1           0           0              1           0           0              1           0           0              1           0           0              1           0           0              1           0           0              1           0                1\n",
      "              0          1          0             0          1          0             1          0          0             1          0          0             1          0          0             1          0          0             0          1          0             1          0          0             1          0          0              1           0           0              1           0              1           0              1           0           0              1           0           0              1           0           0              1           0           0              1           0           0              1           0           0              1           0                1\n",
      "              1          0          0             1          0          0             0          1          0             1          0          0             1          0          0             1          0          0             1          0          0             1          0          0             1          0          0              1           0           0              1           0              1           0              1           0           0              1           0           0              1           0           0              1           0           0              1           0           0              1           0           0              1           0                1\n",
      "                                                  0          1          0             1          0          0             1          0          0             1          0          0             1          0          0             0          1          0             1          0          0             1          0          0              1           0           0              1           0              1           0              1           0           0              1           0           0              0           1           0              0           1           0              1           0           0              1           0           0              1           0                1\n",
      "                                                                                                                          0          1          0             1          0          0             1          0          0             1          0          0             1          0          0             1          0          0              1           0           0              1           0              1           0              0           1           0              1           0           0              0           1           0              1           0           0              1           0           0              1           0           0              1           0                1\n",
      "                                                                                      0          1          0             1          0          0             1          0          0             1          0          0             1          0          0             1          0          0             1          0          0              1           0           0              1           0              1           0              1           0           0              1           0           0              1           0           0              1           0           0              1           0           0              1           0           0              1           0                1\n",
      "                                                                                                                                                                                                                                                                                                                                                                                                                                                                                                                              0           1           0              0           1           0              1           0           0              1           0           0              1           0                1\n",
      "              0          1          0             1          0          0             1          0          0             1          0          0             1          0          0             1          0          0             1          0          0             1          0          0             1          0          0              1           0           0              1           0              1           0              1           0           0              1           0           0              1           0           0              1           0           0              0           1           0              1           0           0              1           0                1\n",
      "                                                                                                                          0          1          0             1          0          0             1          0          0             1          0          0             1          0          0             1          0          0              1           0           0              1           0              1           0              1           0           0              1           0           0              1           0           0              1           0           0              1           0           0              1           0           0              1           0                1\n",
      "              1          0          0             1          0          0             1          0          0             0          1          0             1          0          0             0          1          0             1          0          0             1          0          0             1          0          0              1           0           0              1           0              1           0              1           0           0              1           0           0              1           0           0              1           0           0              1           0           0              1           0           0              1           0                1\n",
      "dtype: int64\n"
     ]
    }
   ],
   "source": [
    "# for example, there are massive missing values in q17, i.e. question 17 source of finance to establish the business: XXXXXXX\n",
    "print(df_final[df_final.filter(like='q17_').columns.tolist()].value_counts())"
   ]
  },
  {
   "cell_type": "code",
   "execution_count": 11,
   "metadata": {},
   "outputs": [
    {
     "name": "stdout",
     "output_type": "stream",
     "text": [
      "Empty DataFrame\n",
      "Columns: [q9_1, q9_2, q9_3, q9_4, q9_5, q9_6, q9_7, q9_8, q9_9, q9_10, q9_11, q9_12, q9_14, q9_15]\n",
      "Index: []\n",
      "0    2120\n",
      "1     203\n",
      "Name: q9_14, dtype: int64 \n",
      " 0    2108\n",
      "1     215\n",
      "Name: q9_15, dtype: int64\n"
     ]
    }
   ],
   "source": [
    "# even though no missing value existing, there is still troublesome data, so we need to handle it\n",
    "# another example, question Q9 annual turnover (option 14 DK and 15 Refused)\n",
    "print(df_final.filter(like='q9_').head(0))\n",
    "print(df_final['q9_14'].value_counts(),'\\n',df_final['q9_15'].value_counts())\n"
   ]
  },
  {
   "cell_type": "code",
   "execution_count": 12,
   "metadata": {},
   "outputs": [
    {
     "name": "stdout",
     "output_type": "stream",
     "text": [
      "q38_1_1  q38_1_2  q38_1_3  q38_1_4  q38_1_7  q38_1_8  q38_1_9  q38_1_10  q38_1_11  q38_1_12  q38_1_13  q38_1_14  q38_1_15  q38_1_16  q38_1_18  q38_2_1  q38_2_2  q38_2_3  q38_2_4  q38_2_7  q38_2_8  q38_2_9  q38_2_10  q38_2_11  q38_2_12  q38_2_13  q38_2_14  q38_2_15  q38_2_16  q38_2_18  q38_3_1  q38_3_2  q38_3_3  q38_3_4  q38_3_7  q38_3_8  q38_3_9  q38_3_10  q38_3_11  q38_3_12  q38_3_13  q38_3_14  q38_3_15  q38_3_16  q38_3_18  q38_4_1  q38_4_2  q38_4_3  q38_4_4  q38_4_7  q38_4_8  q38_4_9  q38_4_10  q38_4_11  q38_4_12  q38_4_13  q38_4_14  q38_4_15  q38_4_16  q38_4_18\n",
      "-99.99   -99.99   -99.99   -99.99   -99.99   -99.99   -99.99   -99.99    -99.99    -99.99    -99.99    -99.99    -99.99    -99.99    -99.99    -99.99   -99.99   -99.99   -99.99   -99.99   -99.99   -99.99   -99.99    -99.99    -99.99    -99.99    -99.99    -99.99    -99.99    -99.99    -99.99   -99.99   -99.99   -99.99   -99.99   -99.99   -99.99   -99.99    -99.99    -99.99    -99.99    -99.99    -99.99    -99.99    -99.99    -99.99   -99.99   -99.99   -99.99   -99.99   -99.99   -99.99   -99.99    -99.99    -99.99    -99.99    -99.99    -99.99    -99.99    -99.99      1016\n",
      "          1.00    -99.99   -99.99   -99.99   -99.99   -99.99   -99.99    -99.99    -99.99    -99.99    -99.99    -99.99    -99.99    -99.99    -99.99   -99.99   -99.99   -99.99   -99.99   -99.99   -99.99   -99.99    -99.99    -99.99    -99.99    -99.99    -99.99    -99.99    -99.99    -99.99   -99.99   -99.99   -99.99   -99.99   -99.99   -99.99   -99.99    -99.99    -99.99    -99.99    -99.99    -99.99    -99.99    -99.99    -99.99   -99.99   -99.99   -99.99   -99.99   -99.99   -99.99   -99.99    -99.99    -99.99    -99.99    -99.99    -99.99    -99.99    -99.99       585\n",
      " 1.00    -99.99   -99.99   -99.99   -99.99   -99.99   -99.99   -99.99    -99.99    -99.99    -99.99    -99.99    -99.99    -99.99    -99.99    -99.99   -99.99   -99.99   -99.99   -99.99   -99.99   -99.99   -99.99    -99.99    -99.99    -99.99    -99.99    -99.99    -99.99    -99.99    -99.99   -99.99   -99.99   -99.99   -99.99   -99.99   -99.99   -99.99    -99.99    -99.99    -99.99    -99.99    -99.99    -99.99    -99.99    -99.99   -99.99   -99.99   -99.99   -99.99   -99.99   -99.99   -99.99    -99.99    -99.99    -99.99    -99.99    -99.99    -99.99    -99.99       181\n",
      "-99.99   -99.99   -99.99   -99.99   -99.99   -99.99   -99.99   -99.99    -99.99    -99.99    -99.99    -99.99    -99.99    -99.99    -99.99    -99.99   -99.99   -99.99   -99.99   -99.99   -99.99   -99.99   -99.99    -99.99    -99.99    -99.99    -99.99    -99.99    -99.99    -99.99    -99.99    1.00    -99.99   -99.99   -99.99   -99.99   -99.99   -99.99    -99.99    -99.99    -99.99    -99.99    -99.99    -99.99    -99.99    -99.99   -99.99   -99.99   -99.99   -99.99   -99.99   -99.99   -99.99    -99.99    -99.99    -99.99    -99.99    -99.99    -99.99    -99.99        52\n",
      " 3.00     3.00    -99.99   -99.99   -99.99   -99.99   -99.99   -99.99    -99.99    -99.99    -99.99    -99.99    -99.99    -99.99    -99.99    -99.99   -99.99   -99.99   -99.99   -99.99   -99.99   -99.99   -99.99    -99.99    -99.99    -99.99    -99.99    -99.99    -99.99    -99.99    -99.99   -99.99   -99.99   -99.99   -99.99   -99.99   -99.99   -99.99    -99.99    -99.99    -99.99    -99.99    -99.99    -99.99    -99.99    -99.99   -99.99   -99.99   -99.99   -99.99   -99.99   -99.99   -99.99    -99.99    -99.99    -99.99    -99.99    -99.99    -99.99    -99.99        45\n",
      "                                                                                                                                                                                                                                                                                                                                                                                                                                                                                                                                                                                              ... \n",
      "-99.99   -99.99   -99.99   -99.99   -99.99   -99.99   -99.99    1.00     -99.99    -99.99    -99.99    -99.99    -99.99    -99.99    -99.99    -99.99   -99.99   -99.99   -99.99   -99.99   -99.99   -99.99   -99.99    -99.99    -99.99    -99.99    -99.99    -99.99    -99.99    -99.99    -99.99   -99.99   -99.99   -99.99   -99.99   -99.99   -99.99   -99.99    -99.99    -99.99    -99.99    -99.99    -99.99    -99.99    -99.99    -99.99   -99.99   -99.99   -99.99   -99.99   -99.99   -99.99   -99.99    -99.99    -99.99    -99.99    -99.99    -99.99    -99.99    -99.99         1\n",
      "                                                               -99.99     2.00     -99.99    -99.99    -99.99    -99.99    -99.99    -99.99    -99.99   -99.99   -99.99   -99.99   -99.99   -99.99   -99.99   -99.99    -99.99    -99.99    -99.99    -99.99    -99.99    -99.99    -99.99    -99.99   -99.99   -99.99   -99.99   -99.99   -99.99   -99.99   -99.99    -99.99    -99.99    -99.99    -99.99    -99.99    -99.99    -99.99    -99.99   -99.99   -99.99   -99.99   -99.99   -99.99   -99.99   -99.99    -99.99    -99.99    -99.99    -99.99    -99.99    -99.99    -99.99         1\n",
      "                                                                          1.00     -99.99    -99.99    -99.99    -99.99    -99.99    -99.99    -99.99   -99.99   -99.99   -99.99   -99.99   -99.99   -99.99   -99.99    -99.99    -99.99    -99.99    -99.99    -99.99    -99.99    -99.99    -99.99   -99.99   -99.99   -99.99   -99.99   -99.99   -99.99   -99.99    -99.99    -99.99    -99.99    -99.99    -99.99    -99.99    -99.99    -99.99   -99.99   -99.99   -99.99   -99.99   -99.99   -99.99   -99.99    -99.99    -99.99    -99.99    -99.99    -99.99    -99.99    -99.99         1\n",
      "                                                                         -99.99    -99.99    -99.99    -99.99    -99.99    -99.99    -99.99    -99.99   -99.99   -99.99   -99.99   -99.99   -99.99   -99.99   -99.99    -99.99    -99.99    -99.99    -99.99    -99.99    -99.99    -99.99    -99.99   -99.99   -99.99   -99.99   -99.99   -99.99   -99.99   -99.99     2.00     -99.99    -99.99    -99.99    -99.99    -99.99    -99.99    -99.99   -99.99   -99.99   -99.99   -99.99   -99.99   -99.99   -99.99    -99.99    -99.99    -99.99    -99.99    -99.99    -99.99    -99.99         1\n",
      " 3.00     3.00     3.00     3.00     3.00     3.00     3.00     1.00      3.00     -99.99    -99.99    -99.99    -99.99    -99.99    -99.99    -99.99   -99.99   -99.99   -99.99   -99.99   -99.99   -99.99   -99.99    -99.99    -99.99    -99.99    -99.99    -99.99    -99.99    -99.99    -99.99   -99.99   -99.99   -99.99   -99.99   -99.99   -99.99   -99.99    -99.99    -99.99    -99.99    -99.99    -99.99    -99.99    -99.99    -99.99   -99.99   -99.99   -99.99   -99.99   -99.99   -99.99   -99.99    -99.99    -99.99    -99.99    -99.99    -99.99    -99.99    -99.99         1\n",
      "Length: 136, dtype: int64\n"
     ]
    }
   ],
   "source": [
    "# df_final = pandas.get_dummies(df_final, columns=['q17_1'])\n",
    "# print(df_final.filter(like='q35b').head(0))\n",
    "# print(df_final.filter(like='q38').columns.tolist())\n",
    "print(df_final[df_final.filter(like='q38').columns.tolist()].value_counts())"
   ]
  },
  {
   "cell_type": "code",
   "execution_count": 13,
   "metadata": {},
   "outputs": [
    {
     "name": "stdout",
     "output_type": "stream",
     "text": [
      "1    2137\n",
      "0     186\n",
      "Name: q17_1_-99.99, dtype: int64\n"
     ]
    }
   ],
   "source": [
    "print(df_final['q17_1_-99.99'].value_counts())"
   ]
  },
  {
   "cell_type": "code",
   "execution_count": 31,
   "metadata": {},
   "outputs": [
    {
     "name": "stdout",
     "output_type": "stream",
     "text": [
      "-99.99    639\n",
      " 3.00     465\n",
      " 4.00     317\n",
      " 2.00     290\n",
      " 5.00     134\n",
      " 0.00     114\n",
      " 1.00     110\n",
      "-2.00      93\n",
      "-3.00      74\n",
      "-1.00      44\n",
      "-4.00      34\n",
      "-5.00       9\n",
      "Name: q115_116, dtype: int64\n"
     ]
    }
   ],
   "source": [
    "df_final['q115_116']  = -99.99\n",
    "df_final.loc[df_final['q115'] == 3.00,'q115_116'] = 0.00\n",
    "df_final.loc[df_final['q116_p'] == 1.00,'q115_116'] = 1.00\n",
    "df_final.loc[df_final['q116_p'] == 2.00,'q115_116'] = 2.00\n",
    "df_final.loc[df_final['q116_p'] == 3.00,'q115_116'] = 3.00\n",
    "df_final.loc[df_final['q116_p'] == 4.00,'q115_116'] = 4.00\n",
    "df_final.loc[df_final['q116_p'] == 5.00,'q115_116'] = 5.00\n",
    "df_final.loc[df_final['q116_l'] == 1.00,'q115_116'] = -1.00\n",
    "df_final.loc[df_final['q116_l'] == 2.00,'q115_116'] = -2.00\n",
    "df_final.loc[df_final['q116_l'] == 3.00,'q115_116'] = -3.00\n",
    "df_final.loc[df_final['q116_l'] == 4.00,'q115_116'] = -4.00\n",
    "df_final.loc[df_final['q116_l'] == 5.00,'q115_116'] = -5.00\n",
    "\n",
    "print(df_final['q115_116'].value_counts())"
   ]
  },
  {
   "cell_type": "code",
   "execution_count": 34,
   "metadata": {},
   "outputs": [
    {
     "name": "stdout",
     "output_type": "stream",
     "text": [
      "14    657\n",
      "1     462\n",
      "15    441\n",
      "2     159\n",
      "5     141\n",
      "6     109\n",
      "7      83\n",
      "3      83\n",
      "4      66\n",
      "8      60\n",
      "9      38\n",
      "10     16\n",
      "11      6\n",
      "12      1\n",
      "13      1\n",
      "Name: q120, dtype: int64\n"
     ]
    }
   ],
   "source": [
    "print(df_final['q120'].value_counts())\n",
    "\n",
    "# print(df_final[df_final.filter(like='qbb').columns.tolist()].value_counts())"
   ]
  },
  {
   "cell_type": "code",
   "execution_count": null,
   "metadata": {},
   "outputs": [],
   "source": [
    "# WoE Binning and Feature Engineering"
   ]
  }
 ],
 "metadata": {
  "interpreter": {
   "hash": "651560e5b94c4c735e4f68bc26091ae49c50ee21cb6249d6ea7b5cdf39e57c60"
  },
  "kernelspec": {
   "display_name": "Python 3.9.11 ('fairness')",
   "language": "python",
   "name": "python3"
  },
  "language_info": {
   "codemirror_mode": {
    "name": "ipython",
    "version": 3
   },
   "file_extension": ".py",
   "mimetype": "text/x-python",
   "name": "python",
   "nbconvert_exporter": "python",
   "pygments_lexer": "ipython3",
   "version": "3.9.11"
  },
  "orig_nbformat": 4
 },
 "nbformat": 4,
 "nbformat_minor": 2
}
