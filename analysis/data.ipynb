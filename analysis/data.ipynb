{
 "cells": [
  {
   "cell_type": "code",
   "execution_count": 1,
   "metadata": {},
   "outputs": [
    {
     "name": "stdout",
     "output_type": "stream",
     "text": [
      "   Unnamed: 0  outcome  risk  q126  q144  q7q8  q9  q11   q11a  q12  ...  \\\n",
      "0          23        0   2.0     1     1     1   1    1 -99.99    1  ...   \n",
      "1          39        1   3.0     1     1     2   5    6   1.00    2  ...   \n",
      "2          43        1   4.0     2     1     2   2    2   1.00    1  ...   \n",
      "3          63        1   4.0     1     1     1   1    9 -99.99    1  ...   \n",
      "4          65        1   5.0     1     1     3   9    1   1.00    2  ...   \n",
      "\n",
      "   q111112   q113   qbb2   qbb3  q115  q116_p  q116_l  q117  q119  q120  \n",
      "0      5.0 -99.99 -99.99 -99.99     1    2.00  -99.99   3.0   8.0     5  \n",
      "1      5.0 -99.99 -99.99 -99.99     1    3.00  -99.99   2.0   5.0     5  \n",
      "2      5.0 -99.99 -99.99 -99.99     4  -99.99  -99.99   2.0  14.0    14  \n",
      "3      4.0 -99.99 -99.99 -99.99     1    2.00  -99.99   2.0   1.0     1  \n",
      "4      4.0 -99.99 -99.99 -99.99     1    5.00  -99.99   2.0  10.0    15  \n",
      "\n",
      "[5 rows x 486 columns]\n"
     ]
    }
   ],
   "source": [
    "import scipy, pandas, numpy\n",
    "import matplotlib.pyplot as plt  \n",
    "\n",
    "df_final = pandas.read_csv('./sme_finance_monitor_preprocess.csv')\n",
    "print(df_final.head())"
   ]
  },
  {
   "cell_type": "markdown",
   "metadata": {},
   "source": [
    "### Drop list"
   ]
  },
  {
   "cell_type": "code",
   "execution_count": 2,
   "metadata": {},
   "outputs": [
    {
     "name": "stdout",
     "output_type": "stream",
     "text": [
      "['q36_1_1', 'q36_1_2', 'q36_1_3', 'q36_1_4', 'q36_1_7', 'q36_1_8', 'q36_1_9', 'q36_1_10', 'q36_1_11', 'q36_1_12', 'q36_1_13', 'q36_1_14', 'q36_1_15', 'q36_1_16', 'q36_1_18', 'q36_2_1', 'q36_2_2', 'q36_2_3', 'q36_2_4', 'q36_2_7', 'q36_2_8', 'q36_2_9', 'q36_2_10', 'q36_2_11', 'q36_2_12', 'q36_2_13', 'q36_2_14', 'q36_2_15', 'q36_2_16', 'q36_2_18', 'q36_3_1', 'q36_3_2', 'q36_3_3', 'q36_3_4', 'q36_3_7', 'q36_3_8', 'q36_3_9', 'q36_3_10', 'q36_3_11', 'q36_3_12', 'q36_3_13', 'q36_3_14', 'q36_3_15', 'q36_3_16', 'q36_3_18', 'q36_4_1', 'q36_4_2', 'q36_4_3', 'q36_4_4', 'q36_4_7', 'q36_4_8', 'q36_4_9', 'q36_4_10', 'q36_4_11', 'q36_4_12', 'q36_4_13', 'q36_4_14', 'q36_4_15', 'q36_4_16', 'q36_4_18']\n"
     ]
    }
   ],
   "source": [
    "q36_list = df_final.filter(like='q36').columns.tolist()\n",
    "print(q36_list)"
   ]
  },
  {
   "cell_type": "markdown",
   "metadata": {},
   "source": [
    "###  Merge variables"
   ]
  },
  {
   "cell_type": "code",
   "execution_count": null,
   "metadata": {},
   "outputs": [],
   "source": [
    "df_temp  = df_final.copy()\n",
    "cols = df_temp.filter(like='q43').columns.tolist()+df_temp.filter(like='q61').columns.tolist()\n",
    "df_final[cols] = df_temp[cols].replace([-99.99, 3.00],0.00,inplace=False)\n",
    "\n",
    "df_final['q43_61'] = -99.99\n",
    "for i in cols:\n",
    "    df_final.loc[df_final[i] == 1.00,'q43_61'] = 1.00\n",
    "    df_final.loc[df_final[i] == 2.00,'q43_61'] = 2.00\n",
    "    df_final.drop(i,axis=1,inplace=True)\n",
    "\n",
    "\n",
    "df_final['q115_116']  = -99.99\n",
    "df_final.loc[df_final['q115'] == 3.00,'q115_116'] = 0.00\n",
    "df_final.loc[df_final['q116_p'] == 1.00,'q115_116'] = 1.00\n",
    "df_final.loc[df_final['q116_p'] == 2.00,'q115_116'] = 2.00\n",
    "df_final.loc[df_final['q116_p'] == 3.00,'q115_116'] = 3.00\n",
    "df_final.loc[df_final['q116_p'] == 4.00,'q115_116'] = 4.00\n",
    "df_final.loc[df_final['q116_p'] == 5.00,'q115_116'] = 5.00\n",
    "df_final.loc[df_final['q116_l'] == 1.00,'q115_116'] = -1.00\n",
    "df_final.loc[df_final['q116_l'] == 2.00,'q115_116'] = -2.00\n",
    "df_final.loc[df_final['q116_l'] == 3.00,'q115_116'] = -3.00\n",
    "df_final.loc[df_final['q116_l'] == 4.00,'q115_116'] = -4.00\n",
    "df_final.loc[df_final['q116_l'] == 5.00,'q115_116'] = -5.00"
   ]
  },
  {
   "cell_type": "markdown",
   "metadata": {},
   "source": [
    "### No missing value list"
   ]
  },
  {
   "cell_type": "code",
   "execution_count": 3,
   "metadata": {},
   "outputs": [],
   "source": [
    "nomiss_list=['risk', 'q126', 'q144', 'q7q8', 'q9', 'q11', 'q12', 'q13', 'q14y', \n",
    "'q14ysu2', 'q15d2', 'q15', 'q15z', 'q24a', 'q24b', 'q24c', 'q78', 'q103106', 'q120']\n",
    "\n"
   ]
  },
  {
   "cell_type": "markdown",
   "metadata": {},
   "source": [
    "### Multichoice missing value"
   ]
  },
  {
   "cell_type": "code",
   "execution_count": 4,
   "metadata": {},
   "outputs": [],
   "source": [
    "def multichoice(df, col_key):\n",
    "    df_copy  = df.copy()\n",
    "    col=[]\n",
    "    if isinstance(col_key,list):\n",
    "        for i in col_key:\n",
    "            col += df.filter(like=i).columns.tolist()\n",
    "        # print(col)\n",
    "    else:\n",
    "        col = df.filter(like=col_key).columns.tolist()\n",
    "    df[col] = df_copy[col].replace(-99.99, 0.00,inplace=False)\n",
    "    df.loc[(df[col]==0.00).all(axis=1), col] = numpy.nan\n",
    "    return df"
   ]
  },
  {
   "cell_type": "code",
   "execution_count": 5,
   "metadata": {},
   "outputs": [],
   "source": [
    "col_list=['q15_', ['q35b', 'q53'], 'q11a', 'q13a', 'q15b_', 'q15c', 'q17_', 'q26_', 'q27', \n",
    "'q28_', ['q38', 'q56'], ['q42', 'q60'], 'q43_61', 'q78b', 'q78c', 'q81', 'q84_', 'q85', 'q111112',\n",
    "'q113', 'qbb', 'q115_116', 'q117', 'q119']"
   ]
  },
  {
   "cell_type": "code",
   "execution_count": 24,
   "metadata": {},
   "outputs": [],
   "source": [
    "df_temp  = df_final.copy()\n",
    "cols = df_temp.filter(like='q43').columns.tolist()+df_temp.filter(like='q61').columns.tolist()\n",
    "df_final[cols] = df_temp[cols].replace([-99.99, 3.00],0.00,inplace=False)\n",
    "\n",
    "df_final['q43_61'] = -99.99\n",
    "for i in cols:\n",
    "    df_final.loc[df_final[i] == 1.00,'q43_61'] = 1.00\n",
    "    df_final.loc[df_final[i] == 2.00,'q43_61'] = 2.00\n",
    "    df_final.drop(i,axis=1,inplace=True)\n"
   ]
  },
  {
   "cell_type": "code",
   "execution_count": 40,
   "metadata": {},
   "outputs": [
    {
     "name": "stdout",
     "output_type": "stream",
     "text": [
      "q54_1   q54_2   q54_3   q54_4   q54_7   q54_8   q54_9   q54_10  q54_11  q54_12  q54_13  q54_14  q54_15  q54_16\n",
      "-99.99  -99.99  -99.99  -99.99  -99.99  -99.99  -99.99  -99.99  -99.99  -99.99  -99.99  -99.99  -99.99  -99.99    1450\n",
      "dtype: int64\n",
      "q54_1  q54_2  q54_3  q54_4  q54_7  q54_8  q54_9  q54_10  q54_11  q54_12  q54_13  q54_14  q54_15  q54_16\n",
      "0.0    15.0   0.0    0.0    0.0    0.0    0.0    0.0     0.0     0.0     0.0     0.0     0.0     0.0       45\n",
      "       0.0    0.0    15.0   0.0    0.0    0.0    0.0     0.0     0.0     0.0     0.0     0.0     0.0       31\n",
      "6.0    0.0    0.0    0.0    0.0    0.0    0.0    0.0     0.0     0.0     0.0     0.0     0.0     0.0       25\n",
      "7.0    0.0    0.0    0.0    0.0    0.0    0.0    0.0     0.0     0.0     0.0     0.0     0.0     0.0       25\n",
      "5.0    0.0    0.0    0.0    0.0    0.0    0.0    0.0     0.0     0.0     0.0     0.0     0.0     0.0       21\n",
      "                                                                                                           ..\n",
      "0.0    0.0    14.0   0.0    0.0    0.0    0.0    0.0     0.0     0.0     0.0     0.0     0.0     0.0        1\n",
      "              12.0   0.0    0.0    12.0   14.0   0.0     0.0     0.0     0.0     0.0     0.0     0.0        1\n",
      "              11.0   0.0    11.0   0.0    0.0    0.0     0.0     0.0     0.0     0.0     0.0     0.0        1\n",
      "                            0.0    0.0    0.0    0.0     0.0     0.0     0.0     0.0     0.0     0.0        1\n",
      "16.0   16.0   0.0    0.0    0.0    0.0    16.0   0.0     0.0     0.0     0.0     0.0     0.0     0.0        1\n",
      "Length: 384, dtype: int64\n",
      "      q54_1  q54_2  q54_3  q54_4  q54_7  q54_8  q54_9  q54_10  q54_11  q54_12  \\\n",
      "0       NaN    NaN    NaN    NaN    NaN    NaN    NaN     NaN     NaN     NaN   \n",
      "3       NaN    NaN    NaN    NaN    NaN    NaN    NaN     NaN     NaN     NaN   \n",
      "4       NaN    NaN    NaN    NaN    NaN    NaN    NaN     NaN     NaN     NaN   \n",
      "8       NaN    NaN    NaN    NaN    NaN    NaN    NaN     NaN     NaN     NaN   \n",
      "9       NaN    NaN    NaN    NaN    NaN    NaN    NaN     NaN     NaN     NaN   \n",
      "...     ...    ...    ...    ...    ...    ...    ...     ...     ...     ...   \n",
      "2319    NaN    NaN    NaN    NaN    NaN    NaN    NaN     NaN     NaN     NaN   \n",
      "2320    NaN    NaN    NaN    NaN    NaN    NaN    NaN     NaN     NaN     NaN   \n",
      "2322    NaN    NaN    NaN    NaN    NaN    NaN    NaN     NaN     NaN     NaN   \n",
      "2326    NaN    NaN    NaN    NaN    NaN    NaN    NaN     NaN     NaN     NaN   \n",
      "2327    NaN    NaN    NaN    NaN    NaN    NaN    NaN     NaN     NaN     NaN   \n",
      "\n",
      "      q54_13  q54_14  q54_15  q54_16  \n",
      "0        NaN     NaN     NaN     NaN  \n",
      "3        NaN     NaN     NaN     NaN  \n",
      "4        NaN     NaN     NaN     NaN  \n",
      "8        NaN     NaN     NaN     NaN  \n",
      "9        NaN     NaN     NaN     NaN  \n",
      "...      ...     ...     ...     ...  \n",
      "2319     NaN     NaN     NaN     NaN  \n",
      "2320     NaN     NaN     NaN     NaN  \n",
      "2322     NaN     NaN     NaN     NaN  \n",
      "2326     NaN     NaN     NaN     NaN  \n",
      "2327     NaN     NaN     NaN     NaN  \n",
      "\n",
      "[1450 rows x 14 columns]\n"
     ]
    }
   ],
   "source": [
    "col_key = 'q54'\n",
    "\n",
    "col=[]\n",
    "if isinstance(col_key,list):\n",
    "    for i in col_key:\n",
    "        col += df_final.filter(like=i).columns.tolist()\n",
    "else:\n",
    "    col = df_final.filter(like=col_key).columns.tolist()\n",
    "\n",
    "print(df_final.loc[(df_final[col]==-99.99).all(axis=1), col].value_counts())\n",
    "df_final = multichoice(df_final, col_key)\n",
    "print(df_final[col].value_counts())\n",
    "print(df_final.loc[df_final[col].isnull().all(axis=1), col])"
   ]
  },
  {
   "cell_type": "code",
   "execution_count": 35,
   "metadata": {},
   "outputs": [
    {
     "name": "stdout",
     "output_type": "stream",
     "text": [
      "qbb2    qbb3  \n",
      "-99.99  -99.99    1801\n",
      "dtype: int64\n",
      "qbb2  qbb3\n",
      "1.0   0.0     389\n",
      "4.0   0.0      36\n",
      "0.0   1.0      31\n",
      "5.0   0.0      24\n",
      "7.0   0.0      10\n",
      "6.0   0.0       7\n",
      "3.0   0.0       6\n",
      "1.0   1.0       4\n",
      "4.0   4.0       3\n",
      "2.0   0.0       2\n",
      "0.0   2.0       2\n",
      "      5.0       2\n",
      "6.0   6.0       2\n",
      "0.0   4.0       2\n",
      "1.0   3.0       1\n",
      "      6.0       1\n",
      "3.0   1.0       1\n",
      "4.0   1.0       1\n",
      "0.0   6.0       1\n",
      "5.0   5.0       1\n",
      "7.0   5.0       1\n",
      "dtype: int64\n",
      "      qbb2  qbb3\n",
      "0      NaN   NaN\n",
      "1      NaN   NaN\n",
      "2      NaN   NaN\n",
      "3      NaN   NaN\n",
      "4      NaN   NaN\n",
      "...    ...   ...\n",
      "2306   NaN   NaN\n",
      "2309   NaN   NaN\n",
      "2312   NaN   NaN\n",
      "2323   NaN   NaN\n",
      "2324   NaN   NaN\n",
      "\n",
      "[1801 rows x 2 columns]\n"
     ]
    }
   ],
   "source": [
    "col_key = 'qbb'\n",
    "\n",
    "col=[]\n",
    "if isinstance(col_key,list):\n",
    "    for i in col_key:\n",
    "        col += df_final.filter(like=i).columns.tolist()\n",
    "else:\n",
    "    col = df_final.filter(like=col_key).columns.tolist()\n",
    "\n",
    "print(df_final.loc[(df_final[col]==-99.99).all(axis=1), col].value_counts())\n",
    "df_final = multichoice(df_final, col_key)\n",
    "print(df_final[col].value_counts())\n",
    "print(df_final.loc[df_final[col].isnull().all(axis=1), col])"
   ]
  },
  {
   "cell_type": "code",
   "execution_count": null,
   "metadata": {},
   "outputs": [],
   "source": []
  },
  {
   "cell_type": "code",
   "execution_count": null,
   "metadata": {},
   "outputs": [],
   "source": []
  }
 ],
 "metadata": {
  "interpreter": {
   "hash": "651560e5b94c4c735e4f68bc26091ae49c50ee21cb6249d6ea7b5cdf39e57c60"
  },
  "kernelspec": {
   "display_name": "Python 3.9.11 ('fairness')",
   "language": "python",
   "name": "python3"
  },
  "language_info": {
   "codemirror_mode": {
    "name": "ipython",
    "version": 3
   },
   "file_extension": ".py",
   "mimetype": "text/x-python",
   "name": "python",
   "nbconvert_exporter": "python",
   "pygments_lexer": "ipython3",
   "version": "3.9.11"
  },
  "orig_nbformat": 4
 },
 "nbformat": 4,
 "nbformat_minor": 2
}
