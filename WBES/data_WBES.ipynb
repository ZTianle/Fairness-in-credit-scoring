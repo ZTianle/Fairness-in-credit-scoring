{
 "cells": [
  {
   "cell_type": "code",
   "execution_count": 1,
   "metadata": {},
   "outputs": [],
   "source": [
    "import scipy, pandas, numpy\n",
    "import matplotlib.pyplot as plt  \n"
   ]
  },
  {
   "cell_type": "code",
   "execution_count": 2,
   "metadata": {},
   "outputs": [
    {
     "name": "stdout",
     "output_type": "stream",
     "text": [
      "161996 15156\n",
      " 1.0    12461\n",
      " 2.0     1010\n",
      " 3.0      813\n",
      "-6.0      465\n",
      " 4.0      221\n",
      "-9.0      186\n",
      "Name: k20a1, dtype: int64\n"
     ]
    }
   ],
   "source": [
    "df = pandas.read_excel('./New_Comprehensive_March_31_2022.xlsx')\n",
    "# Outcome of most recent application\n",
    "# -9 - DK\n",
    "# -6 - Still in process\n",
    "# 1 - Application was approved in full\n",
    "# 2 - Application was approved in part\n",
    "# 3 - Application was rejected\n",
    "# 4 - Application was withdrawn\n",
    "print(df['k20a1'].isnull().sum(), len(df)-df['k20a1'].isnull().sum()) \n",
    "print(df['k20a1'].value_counts())"
   ]
  },
  {
   "cell_type": "markdown",
   "metadata": {},
   "source": [
    "### Splite dataset according to if providing their outcome"
   ]
  },
  {
   "cell_type": "code",
   "execution_count": 3,
   "metadata": {},
   "outputs": [
    {
     "name": "stdout",
     "output_type": "stream",
     "text": [
      "True     168080\n",
      "False      9072\n",
      "Name: k18, dtype: int64\n",
      "168080 9072\n",
      " 1.0      3324\n",
      "-4.0      2641\n",
      " 2.0      1153\n",
      " 3.0       631\n",
      " 4.0       308\n",
      "-9.0       236\n",
      " 5.0       222\n",
      " 6.0       131\n",
      " 10.0      116\n",
      " 12.0       50\n",
      " 8.0        45\n",
      " 20.0       42\n",
      " 7.0        40\n",
      " 15.0       37\n",
      " 30.0       17\n",
      " 0.0        16\n",
      " 50.0        8\n",
      " 40.0        8\n",
      " 9.0         8\n",
      " 24.0        7\n",
      " 25.0        6\n",
      " 13.0        3\n",
      " 52.0        2\n",
      " 120.0       2\n",
      " 60.0        2\n",
      " 48.0        2\n",
      " 96.0        1\n",
      " 21.0        1\n",
      " 800.0       1\n",
      " 110.0       1\n",
      "-3.0         1\n",
      " 63.0        1\n",
      " 35.0        1\n",
      " 150.0       1\n",
      " 200.0       1\n",
      " 36.0        1\n",
      " 267.0       1\n",
      " 104.0       1\n",
      " 46.0        1\n",
      " 100.0       1\n",
      " 18.0        1\n",
      "Name: k18, dtype: int64\n",
      "6178\n"
     ]
    }
   ],
   "source": [
    "# df = pandas.read_excel('./New_Comprehensive_March_31_2022.xlsx')\n",
    "print(df['k18'].isnull().value_counts())\n",
    "\n",
    "# number of applications\n",
    "print(df['k18'].isnull().sum(), len(df)-df['k18'].isnull().sum()) \n",
    "print(df['k18'].value_counts())\n",
    "print(len(df[df['k18']>0]))\n",
    "# drop a coloumn, k20a\n",
    "df = df.drop(['k20a'], axis=1)\n",
    "# df.to_excel('./New_Comprehensive_March_31_2022_1.xlsx')\n",
    "df_new = df\n",
    "df_new=df_new.assign(outcome=numpy.nan)\n",
    "df_new.loc[(df_new['k20a1']==1)|(df_new['k20a1']==2),'outcome'] = 1\n",
    "df_new.loc[df_new['k20a1']==3,'outcome'] = 0\n"
   ]
  },
  {
   "cell_type": "code",
   "execution_count": null,
   "metadata": {},
   "outputs": [],
   "source": [
    "print(len(df),len(df[~df_new['outcome'].isnull()]), len(df[df_new['outcome'].isnull()]))\n",
    "\n",
    "# save the dataframe with the outcome\n",
    "df_new[~df_new['outcome'].isnull()].to_excel('./WBES_with_outcome.xlsx')\n",
    "# # save the rest of the dataframe \n",
    "df_new[df_new['outcome'].isnull()].to_excel('./WBEZ_without_outcome.xlsx')"
   ]
  },
  {
   "cell_type": "code",
   "execution_count": 5,
   "metadata": {},
   "outputs": [
    {
     "name": "stdout",
     "output_type": "stream",
     "text": [
      "177152 14284 162868\n"
     ]
    }
   ],
   "source": []
  }
 ],
 "metadata": {
  "interpreter": {
   "hash": "651560e5b94c4c735e4f68bc26091ae49c50ee21cb6249d6ea7b5cdf39e57c60"
  },
  "kernelspec": {
   "display_name": "Python 3.9.11 ('fairness')",
   "language": "python",
   "name": "python3"
  },
  "language_info": {
   "codemirror_mode": {
    "name": "ipython",
    "version": 3
   },
   "file_extension": ".py",
   "mimetype": "text/x-python",
   "name": "python",
   "nbconvert_exporter": "python",
   "pygments_lexer": "ipython3",
   "version": "3.9.11"
  },
  "orig_nbformat": 4
 },
 "nbformat": 4,
 "nbformat_minor": 2
}
