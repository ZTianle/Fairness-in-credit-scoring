{
 "cells": [
  {
   "cell_type": "code",
   "execution_count": 1,
   "metadata": {},
   "outputs": [],
   "source": [
    "import scipy, pandas, numpy\n",
    "import matplotlib.pyplot as plt \n",
    "\n",
    "df = pandas.read_excel('./WBES_with_outcome.xlsx')"
   ]
  },
  {
   "cell_type": "code",
   "execution_count": 2,
   "metadata": {},
   "outputs": [],
   "source": [
    "# Categorical variables\n",
    "cate_cols = ['a7', 'b7a', 'b8', 'c15',  'c30a', 'c30b', 'd30a', 'd30b', 'g30a', 'h1', 'h2', 'h8', \n",
    "            'h30', 'i1', 'i30', 'j30a', 'j30b', 'j30c', 'j30e', 'j30f', 'k4b', 'k7', 'k8', 'k13', 'k14a', 'k14b',\n",
    "            'k14c', 'k14d', 'k14e', 'k15d', 'k21', 'k30', 'l30a', 'l30b']\n",
    "# Continuous variables\n",
    "cont_cols = ['c9a', 'd2', 'd3a', 'd3b', 'd3c', 'd12a', 'd12b', 'f1', 'i2a', 'k1c', 'k2c', 'k3a', 'k3bc', 'k3e', 'k3f', 'k3hd',\n",
    "            'k5a', 'k5bc', 'k5e', 'k5f', 'k5i', 'k5hdj', 'k15', 'k15b', 'k15c', 'l1', 'l2', 'l3a', 'l3b', 'l4a1', 'l4a2', 'l4b', 'l5',\n",
    "            'l5a', 'l5b', 'l6', 'l6a', 'n2a', 'n2b',  'n2e', 'n2f', 'n2p', 'n5a', 'n5b', 'n5c', 'n5d', 'n6a', 'n6b','n7a', 'n7b']\n",
    "# Sensitive variable\n",
    "sens_cols = ['b4', 'b4a', 'b4a_cat', 'b7a']"
   ]
  },
  {
   "cell_type": "code",
   "execution_count": 3,
   "metadata": {},
   "outputs": [
    {
     "data": {
      "text/plain": [
       "a7   b7a  b8  c15  c30a  c30b  d30a  d30b  g30a  h1  h2   h8  h30  i1  i30  j30a  j30b  j30c  j30e  j30f  k4b   k7  k8  k13  k14a  k14b  k14c  k14d  k14e  k15d  k21  k30  l30a  l30b\n",
       "1.0  -9   1   2.0  2.0   1.0   2.0    2.0  1     1   1.0  1   1    1   0    1.0   2.0   0.0   4     3.0    1.0  1   1   1.0  2.0   2.0   2.0   1.0   -9.0  1     1    2    1.0   -7.0    1\n",
       "2.0   2   2   1.0  2.0   1.0   1.0    1.0  1     1   1.0  1   3    1   1    3.0   3.0   2.0   3     3.0    1.0  1   1   1.0  1.0   2.0   2.0   2.0    2.0  2     1    1    3.0    3.0    1\n",
       "                   1.0   1.0   1.0   -7.0  0     1   1.0  2   0    1   0    2.0   2.0   2.0   2     2.0    1.0  1   1   1.0  2.0   2.0   2.0   2.0    1.0  2     2    0    2.0    1.0    1\n",
       "                                      0.0  0     1   1.0  2   2    1   0    1.0   2.0   1.0   2     1.0    1.0  1   1   1.0  2.0   2.0   2.0   1.0    2.0  2     1    2    2.0    2.0    1\n",
       "                                      4.0  1     1   2.0  1   3    1   1    4.0   4.0   1.0   1     4.0    1.0  1   1   1.0  1.0   2.0   2.0   2.0    2.0  2     2    2    3.0    2.0    1\n",
       "                                                                                                                                                                                        ..\n",
       "      1   2   2.0  1.0   1.0   1.0    0.0  0     1   1.0  2   0    1   2    0.0   0.0   0.0   0     0.0    1.0  1   1   1.0  1.0   2.0   2.0   2.0    2.0  1     2    1    2.0    2.0    1\n",
       "                         0.0   2.0    2.0  0     1   2.0  2   3    1   3    4.0   3.0   3.0   3     3.0   -9.0  2   1   1.0  1.0   2.0   2.0   2.0    2.0  2     2    2    2.0    4.0    1\n",
       "                               1.0    2.0  2     1   1.0  2   1    1   2    3.0   3.0   2.0   4     4.0    2.0  1   1   1.0  1.0   2.0   2.0   2.0    2.0  2     2    2    2.0    3.0    1\n",
       "                               0.0    0.0  3     1   1.0  2   1    1   3    3.0   1.0   3.0   2     2.0    2.0  2   1   1.0  2.0   1.0   2.0   2.0    2.0  2     2    3    2.0    0.0    1\n",
       "      2   2   2.0  4.0   4.0   4.0    2.0  3     1   1.0  2   1    1   3    4.0   3.0   4.0   4     4.0    1.0  1   1   1.0  2.0   2.0   2.0   1.0    2.0  2     1    0    4.0    4.0    1\n",
       "Length: 551, dtype: int64"
      ]
     },
     "execution_count": 3,
     "metadata": {},
     "output_type": "execute_result"
    }
   ],
   "source": [
    "df[cate_cols].value_counts()"
   ]
  },
  {
   "cell_type": "code",
   "execution_count": 4,
   "metadata": {},
   "outputs": [
    {
     "name": "stdout",
     "output_type": "stream",
     "text": [
      "    a7  b7a  b8  c15  c30a  c30b  d30a  d30b  g30a  h1  ...        n5c  n5d  \\\n",
      "0  2.0    2   1 -7.0   2.0   NaN   0.0   0.0    -7   2  ...  4000000.0  0.0   \n",
      "\n",
      "   n6a  n6b         n7a  n7b   b4  b4a  b4a_cat  b7a  \n",
      "0  NaN  NaN  20000000.0  NaN  2.0  NaN      1.0    2  \n",
      "\n",
      "[1 rows x 88 columns]\n"
     ]
    }
   ],
   "source": [
    "all_cols = cate_cols + cont_cols + sens_cols\n",
    "df_new = df[all_cols]\n",
    "print(df_new.head(1))"
   ]
  },
  {
   "cell_type": "code",
   "execution_count": 5,
   "metadata": {},
   "outputs": [
    {
     "name": "stdout",
     "output_type": "stream",
     "text": [
      "0.000000    3716\n",
      "0.200000     432\n",
      "0.166667     340\n",
      "0.333333     296\n",
      "0.250000     283\n",
      "            ... \n",
      "0.070707       1\n",
      "0.755102       1\n",
      "0.054422       1\n",
      "0.020725       1\n",
      "0.005291       1\n",
      "Name: l2_new, Length: 2205, dtype: int64\n"
     ]
    }
   ],
   "source": [
    "# process number of employees and costs\n",
    "df_temp  = df_new.copy()\n",
    "df_temp['l2_new'] = numpy.nan\n",
    "df_temp['l2_new'] = df_new.apply(lambda x:(x['l1']-x['l2'])/x['l1'], axis=1)\n",
    "emp_cols = ['l2', 'l3a', 'l3b', 'l4a1', 'l4a2', 'l4b', 'l5', 'l5a', 'l5b', 'l6', 'l6a']\n",
    "cost_cols = ['n2a', 'n2b',  'n2e', 'n2f', 'n2p']\n",
    "\n",
    "print(df_temp['l2_new'].value_counts())\n"
   ]
  },
  {
   "cell_type": "code",
   "execution_count": 12,
   "metadata": {},
   "outputs": [],
   "source": [
    "df_temp1  =  df_temp.copy()\n",
    "    \n",
    "df_temp = df_temp1.replace(-9, numpy.nan, inplace=False)\n",
    "\n",
    "df_temp = df_temp1.replace(-7, 0, inplace=False)"
   ]
  },
  {
   "cell_type": "code",
   "execution_count": 11,
   "metadata": {},
   "outputs": [
    {
     "name": "stdout",
     "output_type": "stream",
     "text": [
      "-9.0 83250000000000.0\n"
     ]
    }
   ],
   "source": [
    "print(df_temp['d2'].min(), df_temp['d2'].max())\n",
    "df_temp1  =  df_temp.copy()\n",
    "for col in cost_cols:\n",
    "    df_temp[col] = df_temp1[col].div(df_temp1['d2'])"
   ]
  },
  {
   "cell_type": "code",
   "execution_count": 8,
   "metadata": {},
   "outputs": [
    {
     "name": "stdout",
     "output_type": "stream",
     "text": [
      "1.000000    591\n",
      "0.200000    240\n",
      "0.100000    189\n",
      "0.250000    171\n",
      "0.300000    161\n",
      "           ... \n",
      "0.400245      1\n",
      "0.169474      1\n",
      "0.289570      1\n",
      "0.489570      1\n",
      "0.078000      1\n",
      "Name: n2a, Length: 7163, dtype: int64\n",
      "-1333333333.3333333 inf\n",
      "1.000000    481\n",
      "0.010000    182\n",
      "0.020000    146\n",
      "0.005000    135\n",
      "0.006000    110\n",
      "           ... \n",
      "0.003787      1\n",
      "0.018696      1\n",
      "0.001359      1\n",
      "0.017236      1\n",
      "0.000401      1\n",
      "Name: n2b, Length: 6737, dtype: int64\n",
      "-200000000.0 inf\n",
      "1.000000    343\n",
      "0.500000    195\n",
      "0.400000    136\n",
      "0.333333    100\n",
      "0.600000     92\n",
      "           ... \n",
      "0.414362      1\n",
      "0.138105      1\n",
      "0.219178      1\n",
      "0.470827      1\n",
      "0.230789      1\n",
      "Name: n2e, Length: 4089, dtype: int64\n",
      "-888888888.8888888 inf\n",
      "0.000000    507\n",
      "1.000000    297\n",
      "0.010000    101\n",
      "0.020000     72\n",
      "0.050000     56\n",
      "           ... \n",
      "0.028607      1\n",
      "0.004489      1\n",
      "0.000475      1\n",
      "0.016103      1\n",
      "0.011333      1\n",
      "Name: n2f, Length: 3640, dtype: int64\n",
      "-1111111111.1111112 12.0\n",
      " 1.000000    629\n",
      " 0.800000     74\n",
      " 0.833333     58\n",
      " 0.900000     58\n",
      " 0.750000     48\n",
      "            ... \n",
      "-0.000011      1\n",
      " 1.188067      1\n",
      " 1.044770      1\n",
      " 0.506667      1\n",
      "-0.001800      1\n",
      "Name: n2p, Length: 4299, dtype: int64\n",
      "-219251444.44444445 inf\n"
     ]
    }
   ],
   "source": [
    "for col in cost_cols:\n",
    "    print(df_temp[col].value_counts())\n",
    "    print(df_temp[col].min(), df_temp[col].max())\n",
    "# print max and min of d2\n",
    "# print(df['k15'].max())"
   ]
  },
  {
   "cell_type": "code",
   "execution_count": 9,
   "metadata": {},
   "outputs": [
    {
     "data": {
      "text/plain": [
       "0.003080369644357323"
      ]
     },
     "execution_count": 9,
     "metadata": {},
     "output_type": "execute_result"
    }
   ],
   "source": [
    "df['n2b'].isna().sum()/len(df)\n"
   ]
  }
 ],
 "metadata": {
  "interpreter": {
   "hash": "651560e5b94c4c735e4f68bc26091ae49c50ee21cb6249d6ea7b5cdf39e57c60"
  },
  "kernelspec": {
   "display_name": "Python 3.9.11 ('fairness')",
   "language": "python",
   "name": "python3"
  },
  "language_info": {
   "codemirror_mode": {
    "name": "ipython",
    "version": 3
   },
   "file_extension": ".py",
   "mimetype": "text/x-python",
   "name": "python",
   "nbconvert_exporter": "python",
   "pygments_lexer": "ipython3",
   "version": "3.9.11"
  },
  "orig_nbformat": 4
 },
 "nbformat": 4,
 "nbformat_minor": 2
}
